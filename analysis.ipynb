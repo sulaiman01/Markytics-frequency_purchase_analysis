{
 "metadata": {
  "language_info": {
   "codemirror_mode": {
    "name": "ipython",
    "version": 3
   },
   "file_extension": ".py",
   "mimetype": "text/x-python",
   "name": "python",
   "nbconvert_exporter": "python",
   "pygments_lexer": "ipython3",
   "version": "3.7.4"
  },
  "orig_nbformat": 4,
  "kernelspec": {
   "name": "python3",
   "display_name": "Python 3.7.4 64-bit"
  },
  "interpreter": {
   "hash": "7be35b7fb98e915637bb1c527cd3d27c68e7a7c4684499d43c65acef62eaf27e"
  }
 },
 "nbformat": 4,
 "nbformat_minor": 2,
 "cells": [
  {
   "cell_type": "code",
   "execution_count": 2,
   "metadata": {},
   "outputs": [],
   "source": [
    "import numpy as np\n",
    "import pandas as pd\n",
    "import xlrd"
   ]
  },
  {
   "cell_type": "code",
   "execution_count": 3,
   "metadata": {},
   "outputs": [],
   "source": [
    "data = pd.read_excel('Frequency of Purchase Analysis Data Question.xlsx',engine = 'openpyxl')"
   ]
  },
  {
   "cell_type": "code",
   "execution_count": 4,
   "metadata": {},
   "outputs": [
    {
     "output_type": "execute_result",
     "data": {
      "text/plain": [
       "          Outlet ID Brand Name  Sales Value       DATE  Unnamed: 4  \\\n",
       "0          Outlet 1    Brand 1     395.6906 2018-04-10         NaN   \n",
       "1          Outlet 1    Brand 1     395.6906 2018-04-24         NaN   \n",
       "2          Outlet 1    Brand 2     724.9328 2018-04-10         NaN   \n",
       "3          Outlet 1    Brand 3     150.0466 2018-04-10         NaN   \n",
       "4          Outlet 1    Brand 3     300.0932 2018-04-24         NaN   \n",
       "...             ...        ...          ...        ...         ...   \n",
       "25468  Outlet 23559    Brand 3     150.0466 2018-04-05         NaN   \n",
       "25469  Outlet 23560    Brand 1     395.6906 2018-04-05         NaN   \n",
       "25470  Outlet 23560    Brand 3     300.0932 2018-04-05         NaN   \n",
       "25471  Outlet 23561    Brand 1     395.6906 2018-04-05         NaN   \n",
       "25472  Outlet 23561    Brand 3     150.0466 2018-04-05         NaN   \n",
       "\n",
       "       Unnamed: 5 Unnamed: 6 Unnamed: 7 Unnamed: 8  Unnamed: 9  Unnamed: 10  \n",
       "0             NaN        NaN        NaN        NaN         NaN          NaN  \n",
       "1             NaN        NaN        NaN        NaN         NaN          NaN  \n",
       "2             NaN        NaN        NaN        NaN         NaN          NaN  \n",
       "3             NaN        NaN        NaN        NaN         NaN          NaN  \n",
       "4             NaN        NaN        NaN        NaN         NaN          NaN  \n",
       "...           ...        ...        ...        ...         ...          ...  \n",
       "25468         NaN        NaN        NaN        NaN         NaN          NaN  \n",
       "25469         NaN        NaN        NaN        NaN         NaN          NaN  \n",
       "25470         NaN        NaN        NaN        NaN         NaN          NaN  \n",
       "25471         NaN        NaN        NaN        NaN         NaN          NaN  \n",
       "25472         NaN        NaN        NaN        NaN         NaN          NaN  \n",
       "\n",
       "[25473 rows x 11 columns]"
      ],
      "text/html": "<div>\n<style scoped>\n    .dataframe tbody tr th:only-of-type {\n        vertical-align: middle;\n    }\n\n    .dataframe tbody tr th {\n        vertical-align: top;\n    }\n\n    .dataframe thead th {\n        text-align: right;\n    }\n</style>\n<table border=\"1\" class=\"dataframe\">\n  <thead>\n    <tr style=\"text-align: right;\">\n      <th></th>\n      <th>Outlet ID</th>\n      <th>Brand Name</th>\n      <th>Sales Value</th>\n      <th>DATE</th>\n      <th>Unnamed: 4</th>\n      <th>Unnamed: 5</th>\n      <th>Unnamed: 6</th>\n      <th>Unnamed: 7</th>\n      <th>Unnamed: 8</th>\n      <th>Unnamed: 9</th>\n      <th>Unnamed: 10</th>\n    </tr>\n  </thead>\n  <tbody>\n    <tr>\n      <th>0</th>\n      <td>Outlet 1</td>\n      <td>Brand 1</td>\n      <td>395.6906</td>\n      <td>2018-04-10</td>\n      <td>NaN</td>\n      <td>NaN</td>\n      <td>NaN</td>\n      <td>NaN</td>\n      <td>NaN</td>\n      <td>NaN</td>\n      <td>NaN</td>\n    </tr>\n    <tr>\n      <th>1</th>\n      <td>Outlet 1</td>\n      <td>Brand 1</td>\n      <td>395.6906</td>\n      <td>2018-04-24</td>\n      <td>NaN</td>\n      <td>NaN</td>\n      <td>NaN</td>\n      <td>NaN</td>\n      <td>NaN</td>\n      <td>NaN</td>\n      <td>NaN</td>\n    </tr>\n    <tr>\n      <th>2</th>\n      <td>Outlet 1</td>\n      <td>Brand 2</td>\n      <td>724.9328</td>\n      <td>2018-04-10</td>\n      <td>NaN</td>\n      <td>NaN</td>\n      <td>NaN</td>\n      <td>NaN</td>\n      <td>NaN</td>\n      <td>NaN</td>\n      <td>NaN</td>\n    </tr>\n    <tr>\n      <th>3</th>\n      <td>Outlet 1</td>\n      <td>Brand 3</td>\n      <td>150.0466</td>\n      <td>2018-04-10</td>\n      <td>NaN</td>\n      <td>NaN</td>\n      <td>NaN</td>\n      <td>NaN</td>\n      <td>NaN</td>\n      <td>NaN</td>\n      <td>NaN</td>\n    </tr>\n    <tr>\n      <th>4</th>\n      <td>Outlet 1</td>\n      <td>Brand 3</td>\n      <td>300.0932</td>\n      <td>2018-04-24</td>\n      <td>NaN</td>\n      <td>NaN</td>\n      <td>NaN</td>\n      <td>NaN</td>\n      <td>NaN</td>\n      <td>NaN</td>\n      <td>NaN</td>\n    </tr>\n    <tr>\n      <th>...</th>\n      <td>...</td>\n      <td>...</td>\n      <td>...</td>\n      <td>...</td>\n      <td>...</td>\n      <td>...</td>\n      <td>...</td>\n      <td>...</td>\n      <td>...</td>\n      <td>...</td>\n      <td>...</td>\n    </tr>\n    <tr>\n      <th>25468</th>\n      <td>Outlet 23559</td>\n      <td>Brand 3</td>\n      <td>150.0466</td>\n      <td>2018-04-05</td>\n      <td>NaN</td>\n      <td>NaN</td>\n      <td>NaN</td>\n      <td>NaN</td>\n      <td>NaN</td>\n      <td>NaN</td>\n      <td>NaN</td>\n    </tr>\n    <tr>\n      <th>25469</th>\n      <td>Outlet 23560</td>\n      <td>Brand 1</td>\n      <td>395.6906</td>\n      <td>2018-04-05</td>\n      <td>NaN</td>\n      <td>NaN</td>\n      <td>NaN</td>\n      <td>NaN</td>\n      <td>NaN</td>\n      <td>NaN</td>\n      <td>NaN</td>\n    </tr>\n    <tr>\n      <th>25470</th>\n      <td>Outlet 23560</td>\n      <td>Brand 3</td>\n      <td>300.0932</td>\n      <td>2018-04-05</td>\n      <td>NaN</td>\n      <td>NaN</td>\n      <td>NaN</td>\n      <td>NaN</td>\n      <td>NaN</td>\n      <td>NaN</td>\n      <td>NaN</td>\n    </tr>\n    <tr>\n      <th>25471</th>\n      <td>Outlet 23561</td>\n      <td>Brand 1</td>\n      <td>395.6906</td>\n      <td>2018-04-05</td>\n      <td>NaN</td>\n      <td>NaN</td>\n      <td>NaN</td>\n      <td>NaN</td>\n      <td>NaN</td>\n      <td>NaN</td>\n      <td>NaN</td>\n    </tr>\n    <tr>\n      <th>25472</th>\n      <td>Outlet 23561</td>\n      <td>Brand 3</td>\n      <td>150.0466</td>\n      <td>2018-04-05</td>\n      <td>NaN</td>\n      <td>NaN</td>\n      <td>NaN</td>\n      <td>NaN</td>\n      <td>NaN</td>\n      <td>NaN</td>\n      <td>NaN</td>\n    </tr>\n  </tbody>\n</table>\n<p>25473 rows × 11 columns</p>\n</div>"
     },
     "metadata": {},
     "execution_count": 4
    }
   ],
   "source": [
    "data"
   ]
  },
  {
   "cell_type": "code",
   "execution_count": 5,
   "metadata": {},
   "outputs": [
    {
     "output_type": "execute_result",
     "data": {
      "text/plain": [
       "(25473, 11)"
      ]
     },
     "metadata": {},
     "execution_count": 5
    }
   ],
   "source": [
    "data.shape"
   ]
  },
  {
   "cell_type": "code",
   "execution_count": 8,
   "metadata": {},
   "outputs": [],
   "source": [
    "data = data[['Outlet ID','Brand Name','Sales Value','DATE']]"
   ]
  },
  {
   "cell_type": "code",
   "execution_count": 9,
   "metadata": {},
   "outputs": [
    {
     "output_type": "execute_result",
     "data": {
      "text/plain": [
       "          Outlet ID Brand Name  Sales Value       DATE\n",
       "0          Outlet 1    Brand 1     395.6906 2018-04-10\n",
       "1          Outlet 1    Brand 1     395.6906 2018-04-24\n",
       "2          Outlet 1    Brand 2     724.9328 2018-04-10\n",
       "3          Outlet 1    Brand 3     150.0466 2018-04-10\n",
       "4          Outlet 1    Brand 3     300.0932 2018-04-24\n",
       "...             ...        ...          ...        ...\n",
       "25468  Outlet 23559    Brand 3     150.0466 2018-04-05\n",
       "25469  Outlet 23560    Brand 1     395.6906 2018-04-05\n",
       "25470  Outlet 23560    Brand 3     300.0932 2018-04-05\n",
       "25471  Outlet 23561    Brand 1     395.6906 2018-04-05\n",
       "25472  Outlet 23561    Brand 3     150.0466 2018-04-05\n",
       "\n",
       "[25473 rows x 4 columns]"
      ],
      "text/html": "<div>\n<style scoped>\n    .dataframe tbody tr th:only-of-type {\n        vertical-align: middle;\n    }\n\n    .dataframe tbody tr th {\n        vertical-align: top;\n    }\n\n    .dataframe thead th {\n        text-align: right;\n    }\n</style>\n<table border=\"1\" class=\"dataframe\">\n  <thead>\n    <tr style=\"text-align: right;\">\n      <th></th>\n      <th>Outlet ID</th>\n      <th>Brand Name</th>\n      <th>Sales Value</th>\n      <th>DATE</th>\n    </tr>\n  </thead>\n  <tbody>\n    <tr>\n      <th>0</th>\n      <td>Outlet 1</td>\n      <td>Brand 1</td>\n      <td>395.6906</td>\n      <td>2018-04-10</td>\n    </tr>\n    <tr>\n      <th>1</th>\n      <td>Outlet 1</td>\n      <td>Brand 1</td>\n      <td>395.6906</td>\n      <td>2018-04-24</td>\n    </tr>\n    <tr>\n      <th>2</th>\n      <td>Outlet 1</td>\n      <td>Brand 2</td>\n      <td>724.9328</td>\n      <td>2018-04-10</td>\n    </tr>\n    <tr>\n      <th>3</th>\n      <td>Outlet 1</td>\n      <td>Brand 3</td>\n      <td>150.0466</td>\n      <td>2018-04-10</td>\n    </tr>\n    <tr>\n      <th>4</th>\n      <td>Outlet 1</td>\n      <td>Brand 3</td>\n      <td>300.0932</td>\n      <td>2018-04-24</td>\n    </tr>\n    <tr>\n      <th>...</th>\n      <td>...</td>\n      <td>...</td>\n      <td>...</td>\n      <td>...</td>\n    </tr>\n    <tr>\n      <th>25468</th>\n      <td>Outlet 23559</td>\n      <td>Brand 3</td>\n      <td>150.0466</td>\n      <td>2018-04-05</td>\n    </tr>\n    <tr>\n      <th>25469</th>\n      <td>Outlet 23560</td>\n      <td>Brand 1</td>\n      <td>395.6906</td>\n      <td>2018-04-05</td>\n    </tr>\n    <tr>\n      <th>25470</th>\n      <td>Outlet 23560</td>\n      <td>Brand 3</td>\n      <td>300.0932</td>\n      <td>2018-04-05</td>\n    </tr>\n    <tr>\n      <th>25471</th>\n      <td>Outlet 23561</td>\n      <td>Brand 1</td>\n      <td>395.6906</td>\n      <td>2018-04-05</td>\n    </tr>\n    <tr>\n      <th>25472</th>\n      <td>Outlet 23561</td>\n      <td>Brand 3</td>\n      <td>150.0466</td>\n      <td>2018-04-05</td>\n    </tr>\n  </tbody>\n</table>\n<p>25473 rows × 4 columns</p>\n</div>"
     },
     "metadata": {},
     "execution_count": 9
    }
   ],
   "source": [
    "data"
   ]
  },
  {
   "cell_type": "code",
   "execution_count": 33,
   "metadata": {},
   "outputs": [
    {
     "output_type": "execute_result",
     "data": {
      "text/plain": [
       "Outlet ID      5811\n",
       "Brand Name       11\n",
       "Sales Value     334\n",
       "DATE             25\n",
       "dtype: int64"
      ]
     },
     "metadata": {},
     "execution_count": 33
    }
   ],
   "source": [
    "data.nunique(0)"
   ]
  },
  {
   "cell_type": "code",
   "execution_count": 37,
   "metadata": {},
   "outputs": [
    {
     "output_type": "execute_result",
     "data": {
      "text/plain": [
       "5811"
      ]
     },
     "metadata": {},
     "execution_count": 37
    }
   ],
   "source": [
    "t_brands = 11\n",
    "t_outlet = data.nunique()['Outlet ID']\n",
    "t_outlet"
   ]
  },
  {
   "cell_type": "code",
   "execution_count": 29,
   "metadata": {},
   "outputs": [
    {
     "output_type": "execute_result",
     "data": {
      "text/plain": [
       "Brand 9     5113\n",
       "Brand 1     3665\n",
       "Brand 2     3547\n",
       "Brand 7     3301\n",
       "Brand 10    2863\n",
       "Brand 3     1951\n",
       "Brand 6     1868\n",
       "Brand 5     1496\n",
       "Brand 8     1122\n",
       "Brand 4      546\n",
       "Brand 11       1\n",
       "Name: Brand Name, dtype: int64"
      ]
     },
     "metadata": {},
     "execution_count": 29
    }
   ],
   "source": [
    "data[\"Brand Name\"].value_counts()"
   ]
  },
  {
   "cell_type": "code",
   "execution_count": 34,
   "metadata": {},
   "outputs": [
    {
     "output_type": "execute_result",
     "data": {
      "text/plain": [
       "Outlet 928     9\n",
       "Outlet 7174    9\n",
       "Outlet 3289    9\n",
       "Outlet 573     9\n",
       "Outlet 5905    9\n",
       "              ..\n",
       "Outlet 2834    1\n",
       "Outlet 898     1\n",
       "Outlet 6673    1\n",
       "Outlet 7034    1\n",
       "Outlet 7591    1\n",
       "Name: Outlet ID, Length: 5811, dtype: int64"
      ]
     },
     "metadata": {},
     "execution_count": 34
    }
   ],
   "source": [
    "data[\"Outlet ID\"].value_counts()"
   ]
  },
  {
   "source": [
    "total number of brands = 11  \n",
    "the above data shows total number of times certain brands were bought"
   ],
   "cell_type": "markdown",
   "metadata": {}
  },
  {
   "source": [
    "assuming i am the manager of all brands"
   ],
   "cell_type": "markdown",
   "metadata": {}
  },
  {
   "cell_type": "code",
   "execution_count": 76,
   "metadata": {},
   "outputs": [
    {
     "output_type": "execute_result",
     "data": {
      "text/plain": [
       "             number of times purchased  total sales\n",
       "Outlet ID                                          \n",
       "Outlet 1                             6    2139.5366\n",
       "Outlet 10                            4    1786.7488\n",
       "Outlet 100                           3    7468.2568\n",
       "Outlet 1000                          9    9349.3012\n",
       "Outlet 1001                          5    3872.9116\n",
       "...                                ...          ...\n",
       "Outlet 995                           6    3699.2062\n",
       "Outlet 996                           9    6205.8504\n",
       "Outlet 997                           6    7610.4926\n",
       "Outlet 998                           6    3769.2204\n",
       "Outlet 999                           9   13469.7246\n",
       "\n",
       "[5811 rows x 2 columns]"
      ],
      "text/html": "<div>\n<style scoped>\n    .dataframe tbody tr th:only-of-type {\n        vertical-align: middle;\n    }\n\n    .dataframe tbody tr th {\n        vertical-align: top;\n    }\n\n    .dataframe thead th {\n        text-align: right;\n    }\n</style>\n<table border=\"1\" class=\"dataframe\">\n  <thead>\n    <tr style=\"text-align: right;\">\n      <th></th>\n      <th>number of times purchased</th>\n      <th>total sales</th>\n    </tr>\n    <tr>\n      <th>Outlet ID</th>\n      <th></th>\n      <th></th>\n    </tr>\n  </thead>\n  <tbody>\n    <tr>\n      <th>Outlet 1</th>\n      <td>6</td>\n      <td>2139.5366</td>\n    </tr>\n    <tr>\n      <th>Outlet 10</th>\n      <td>4</td>\n      <td>1786.7488</td>\n    </tr>\n    <tr>\n      <th>Outlet 100</th>\n      <td>3</td>\n      <td>7468.2568</td>\n    </tr>\n    <tr>\n      <th>Outlet 1000</th>\n      <td>9</td>\n      <td>9349.3012</td>\n    </tr>\n    <tr>\n      <th>Outlet 1001</th>\n      <td>5</td>\n      <td>3872.9116</td>\n    </tr>\n    <tr>\n      <th>...</th>\n      <td>...</td>\n      <td>...</td>\n    </tr>\n    <tr>\n      <th>Outlet 995</th>\n      <td>6</td>\n      <td>3699.2062</td>\n    </tr>\n    <tr>\n      <th>Outlet 996</th>\n      <td>9</td>\n      <td>6205.8504</td>\n    </tr>\n    <tr>\n      <th>Outlet 997</th>\n      <td>6</td>\n      <td>7610.4926</td>\n    </tr>\n    <tr>\n      <th>Outlet 998</th>\n      <td>6</td>\n      <td>3769.2204</td>\n    </tr>\n    <tr>\n      <th>Outlet 999</th>\n      <td>9</td>\n      <td>13469.7246</td>\n    </tr>\n  </tbody>\n</table>\n<p>5811 rows × 2 columns</p>\n</div>"
     },
     "metadata": {},
     "execution_count": 76
    }
   ],
   "source": [
    "# finding the outlets purchased for different number of times\n",
    "outlet_count = data.groupby(['Outlet ID']).count()\n",
    "outlet_count.drop(columns=['Sales Value','DATE'],inplace=True)\n",
    "outlet_count.columns = ['number of times purchased']\n",
    "outlet_count['total sales'] = data.groupby(['Outlet ID']).sum()\n",
    "outlet_count"
   ]
  },
  {
   "cell_type": "code",
   "execution_count": 80,
   "metadata": {},
   "outputs": [
    {
     "output_type": "execute_result",
     "data": {
      "text/plain": [
       "                           number of outlets   total sales\n",
       "number of times purchased                                 \n",
       "1                                        818  8.108168e+05\n",
       "2                                        717  9.274539e+05\n",
       "3                                       1210  3.478157e+06\n",
       "4                                        744  2.955618e+06\n",
       "5                                        489  2.305511e+06\n",
       "6                                        468  3.085521e+06\n",
       "7                                        344  2.464057e+06\n",
       "8                                        235  1.989405e+06\n",
       "9                                        786  8.318669e+06"
      ],
      "text/html": "<div>\n<style scoped>\n    .dataframe tbody tr th:only-of-type {\n        vertical-align: middle;\n    }\n\n    .dataframe tbody tr th {\n        vertical-align: top;\n    }\n\n    .dataframe thead th {\n        text-align: right;\n    }\n</style>\n<table border=\"1\" class=\"dataframe\">\n  <thead>\n    <tr style=\"text-align: right;\">\n      <th></th>\n      <th>number of outlets</th>\n      <th>total sales</th>\n    </tr>\n    <tr>\n      <th>number of times purchased</th>\n      <th></th>\n      <th></th>\n    </tr>\n  </thead>\n  <tbody>\n    <tr>\n      <th>1</th>\n      <td>818</td>\n      <td>8.108168e+05</td>\n    </tr>\n    <tr>\n      <th>2</th>\n      <td>717</td>\n      <td>9.274539e+05</td>\n    </tr>\n    <tr>\n      <th>3</th>\n      <td>1210</td>\n      <td>3.478157e+06</td>\n    </tr>\n    <tr>\n      <th>4</th>\n      <td>744</td>\n      <td>2.955618e+06</td>\n    </tr>\n    <tr>\n      <th>5</th>\n      <td>489</td>\n      <td>2.305511e+06</td>\n    </tr>\n    <tr>\n      <th>6</th>\n      <td>468</td>\n      <td>3.085521e+06</td>\n    </tr>\n    <tr>\n      <th>7</th>\n      <td>344</td>\n      <td>2.464057e+06</td>\n    </tr>\n    <tr>\n      <th>8</th>\n      <td>235</td>\n      <td>1.989405e+06</td>\n    </tr>\n    <tr>\n      <th>9</th>\n      <td>786</td>\n      <td>8.318669e+06</td>\n    </tr>\n  </tbody>\n</table>\n</div>"
     },
     "metadata": {},
     "execution_count": 80
    }
   ],
   "source": [
    "f_count = outlet_count.groupby(['number of times purchased']).count()\n",
    "f_count.columns = ['number of outlets']\n",
    "f_count['total sales'] = outlet_count.groupby(['number of times purchased']).sum()\n",
    "f_count"
   ]
  },
  {
   "source": [
    "Considering for only brand1 "
   ],
   "cell_type": "markdown",
   "metadata": {}
  },
  {
   "cell_type": "code",
   "execution_count": 22,
   "metadata": {},
   "outputs": [],
   "source": [
    "brand1 = data[data['Brand Name']=='Brand 1']"
   ]
  },
  {
   "cell_type": "code",
   "execution_count": 23,
   "metadata": {},
   "outputs": [
    {
     "output_type": "execute_result",
     "data": {
      "text/plain": [
       "          Outlet ID Brand Name  Sales Value       DATE\n",
       "0          Outlet 1    Brand 1     395.6906 2018-04-10\n",
       "1          Outlet 1    Brand 1     395.6906 2018-04-24\n",
       "6          Outlet 2    Brand 1     791.3812 2018-04-17\n",
       "11         Outlet 3    Brand 1     395.6906 2018-04-17\n",
       "16         Outlet 4    Brand 1     395.6906 2018-04-10\n",
       "...             ...        ...          ...        ...\n",
       "25458  Outlet 23555    Brand 1     233.8146 2018-04-12\n",
       "25462  Outlet 23557    Brand 1     467.6292 2018-04-19\n",
       "25467  Outlet 23559    Brand 1     791.3812 2018-04-05\n",
       "25469  Outlet 23560    Brand 1     395.6906 2018-04-05\n",
       "25471  Outlet 23561    Brand 1     395.6906 2018-04-05\n",
       "\n",
       "[3665 rows x 4 columns]"
      ],
      "text/html": "<div>\n<style scoped>\n    .dataframe tbody tr th:only-of-type {\n        vertical-align: middle;\n    }\n\n    .dataframe tbody tr th {\n        vertical-align: top;\n    }\n\n    .dataframe thead th {\n        text-align: right;\n    }\n</style>\n<table border=\"1\" class=\"dataframe\">\n  <thead>\n    <tr style=\"text-align: right;\">\n      <th></th>\n      <th>Outlet ID</th>\n      <th>Brand Name</th>\n      <th>Sales Value</th>\n      <th>DATE</th>\n    </tr>\n  </thead>\n  <tbody>\n    <tr>\n      <th>0</th>\n      <td>Outlet 1</td>\n      <td>Brand 1</td>\n      <td>395.6906</td>\n      <td>2018-04-10</td>\n    </tr>\n    <tr>\n      <th>1</th>\n      <td>Outlet 1</td>\n      <td>Brand 1</td>\n      <td>395.6906</td>\n      <td>2018-04-24</td>\n    </tr>\n    <tr>\n      <th>6</th>\n      <td>Outlet 2</td>\n      <td>Brand 1</td>\n      <td>791.3812</td>\n      <td>2018-04-17</td>\n    </tr>\n    <tr>\n      <th>11</th>\n      <td>Outlet 3</td>\n      <td>Brand 1</td>\n      <td>395.6906</td>\n      <td>2018-04-17</td>\n    </tr>\n    <tr>\n      <th>16</th>\n      <td>Outlet 4</td>\n      <td>Brand 1</td>\n      <td>395.6906</td>\n      <td>2018-04-10</td>\n    </tr>\n    <tr>\n      <th>...</th>\n      <td>...</td>\n      <td>...</td>\n      <td>...</td>\n      <td>...</td>\n    </tr>\n    <tr>\n      <th>25458</th>\n      <td>Outlet 23555</td>\n      <td>Brand 1</td>\n      <td>233.8146</td>\n      <td>2018-04-12</td>\n    </tr>\n    <tr>\n      <th>25462</th>\n      <td>Outlet 23557</td>\n      <td>Brand 1</td>\n      <td>467.6292</td>\n      <td>2018-04-19</td>\n    </tr>\n    <tr>\n      <th>25467</th>\n      <td>Outlet 23559</td>\n      <td>Brand 1</td>\n      <td>791.3812</td>\n      <td>2018-04-05</td>\n    </tr>\n    <tr>\n      <th>25469</th>\n      <td>Outlet 23560</td>\n      <td>Brand 1</td>\n      <td>395.6906</td>\n      <td>2018-04-05</td>\n    </tr>\n    <tr>\n      <th>25471</th>\n      <td>Outlet 23561</td>\n      <td>Brand 1</td>\n      <td>395.6906</td>\n      <td>2018-04-05</td>\n    </tr>\n  </tbody>\n</table>\n<p>3665 rows × 4 columns</p>\n</div>"
     },
     "metadata": {},
     "execution_count": 23
    }
   ],
   "source": [
    "brand1"
   ]
  },
  {
   "cell_type": "code",
   "execution_count": 24,
   "metadata": {},
   "outputs": [
    {
     "output_type": "execute_result",
     "data": {
      "text/plain": [
       "3665"
      ]
     },
     "metadata": {},
     "execution_count": 24
    }
   ],
   "source": [
    "len(brand1)"
   ]
  },
  {
   "cell_type": "code",
   "execution_count": 81,
   "metadata": {},
   "outputs": [
    {
     "output_type": "execute_result",
     "data": {
      "text/plain": [
       "             number of times purchased  total sales\n",
       "Outlet ID                                          \n",
       "Outlet 1                             2     791.3812\n",
       "Outlet 10                            3    1636.7022\n",
       "Outlet 1002                          2    1007.1970\n",
       "Outlet 1003                          2    1007.1970\n",
       "Outlet 1004                          1    1223.0128\n",
       "...                                ...          ...\n",
       "Outlet 993                           1    1187.0718\n",
       "Outlet 994                           1    1223.0128\n",
       "Outlet 995                           2    1007.1970\n",
       "Outlet 996                           1     395.6906\n",
       "Outlet 998                           2    1007.1970\n",
       "\n",
       "[2133 rows x 2 columns]"
      ],
      "text/html": "<div>\n<style scoped>\n    .dataframe tbody tr th:only-of-type {\n        vertical-align: middle;\n    }\n\n    .dataframe tbody tr th {\n        vertical-align: top;\n    }\n\n    .dataframe thead th {\n        text-align: right;\n    }\n</style>\n<table border=\"1\" class=\"dataframe\">\n  <thead>\n    <tr style=\"text-align: right;\">\n      <th></th>\n      <th>number of times purchased</th>\n      <th>total sales</th>\n    </tr>\n    <tr>\n      <th>Outlet ID</th>\n      <th></th>\n      <th></th>\n    </tr>\n  </thead>\n  <tbody>\n    <tr>\n      <th>Outlet 1</th>\n      <td>2</td>\n      <td>791.3812</td>\n    </tr>\n    <tr>\n      <th>Outlet 10</th>\n      <td>3</td>\n      <td>1636.7022</td>\n    </tr>\n    <tr>\n      <th>Outlet 1002</th>\n      <td>2</td>\n      <td>1007.1970</td>\n    </tr>\n    <tr>\n      <th>Outlet 1003</th>\n      <td>2</td>\n      <td>1007.1970</td>\n    </tr>\n    <tr>\n      <th>Outlet 1004</th>\n      <td>1</td>\n      <td>1223.0128</td>\n    </tr>\n    <tr>\n      <th>...</th>\n      <td>...</td>\n      <td>...</td>\n    </tr>\n    <tr>\n      <th>Outlet 993</th>\n      <td>1</td>\n      <td>1187.0718</td>\n    </tr>\n    <tr>\n      <th>Outlet 994</th>\n      <td>1</td>\n      <td>1223.0128</td>\n    </tr>\n    <tr>\n      <th>Outlet 995</th>\n      <td>2</td>\n      <td>1007.1970</td>\n    </tr>\n    <tr>\n      <th>Outlet 996</th>\n      <td>1</td>\n      <td>395.6906</td>\n    </tr>\n    <tr>\n      <th>Outlet 998</th>\n      <td>2</td>\n      <td>1007.1970</td>\n    </tr>\n  </tbody>\n</table>\n<p>2133 rows × 2 columns</p>\n</div>"
     },
     "metadata": {},
     "execution_count": 81
    }
   ],
   "source": [
    "# finding the outlets purchased for different number of times\n",
    "outlet_count = brand1.groupby(['Outlet ID']).count()\n",
    "outlet_count.drop(columns=['Sales Value','DATE'],inplace=True)\n",
    "outlet_count.columns = ['number of times purchased']\n",
    "outlet_count['total sales'] = brand1.groupby(['Outlet ID']).sum()\n",
    "outlet_count"
   ]
  },
  {
   "cell_type": "code",
   "execution_count": 82,
   "metadata": {},
   "outputs": [
    {
     "output_type": "execute_result",
     "data": {
      "text/plain": [
       "                           number of outlets  total sales\n",
       "number of times purchased                                \n",
       "1                                       1121  720219.7180\n",
       "2                                        644  803817.6916\n",
       "3                                        259  479013.3278\n",
       "4                                         78  193059.0908\n",
       "5                                         19   51672.9700\n",
       "6                                         12   44111.2100"
      ],
      "text/html": "<div>\n<style scoped>\n    .dataframe tbody tr th:only-of-type {\n        vertical-align: middle;\n    }\n\n    .dataframe tbody tr th {\n        vertical-align: top;\n    }\n\n    .dataframe thead th {\n        text-align: right;\n    }\n</style>\n<table border=\"1\" class=\"dataframe\">\n  <thead>\n    <tr style=\"text-align: right;\">\n      <th></th>\n      <th>number of outlets</th>\n      <th>total sales</th>\n    </tr>\n    <tr>\n      <th>number of times purchased</th>\n      <th></th>\n      <th></th>\n    </tr>\n  </thead>\n  <tbody>\n    <tr>\n      <th>1</th>\n      <td>1121</td>\n      <td>720219.7180</td>\n    </tr>\n    <tr>\n      <th>2</th>\n      <td>644</td>\n      <td>803817.6916</td>\n    </tr>\n    <tr>\n      <th>3</th>\n      <td>259</td>\n      <td>479013.3278</td>\n    </tr>\n    <tr>\n      <th>4</th>\n      <td>78</td>\n      <td>193059.0908</td>\n    </tr>\n    <tr>\n      <th>5</th>\n      <td>19</td>\n      <td>51672.9700</td>\n    </tr>\n    <tr>\n      <th>6</th>\n      <td>12</td>\n      <td>44111.2100</td>\n    </tr>\n  </tbody>\n</table>\n</div>"
     },
     "metadata": {},
     "execution_count": 82
    }
   ],
   "source": [
    "f_count = outlet_count.groupby(['number of times purchased']).count()\n",
    "f_count.columns = ['number of outlets']\n",
    "f_count['total sales'] = outlet_count.groupby(['number of times purchased']).sum()\n",
    "f_count"
   ]
  },
  {
   "cell_type": "code",
   "execution_count": 40,
   "metadata": {},
   "outputs": [
    {
     "output_type": "execute_result",
     "data": {
      "text/plain": [
       "0.630700395801067"
      ]
     },
     "metadata": {},
     "execution_count": 40
    }
   ],
   "source": [
    "# frequncy of purchase of brand1\n",
    "fp = len(brand1)/t_outlet\n",
    "fp"
   ]
  },
  {
   "cell_type": "code",
   "execution_count": 43,
   "metadata": {},
   "outputs": [
    {
     "output_type": "execute_result",
     "data": {
      "text/plain": [
       "2291894.0082"
      ]
     },
     "metadata": {},
     "execution_count": 43
    }
   ],
   "source": [
    "#total number of sales value\n",
    "brand1['Sales Value'].sum()"
   ]
  },
  {
   "source": [
    "considering for brand2 alone"
   ],
   "cell_type": "markdown",
   "metadata": {}
  },
  {
   "cell_type": "code",
   "execution_count": 44,
   "metadata": {},
   "outputs": [
    {
     "output_type": "execute_result",
     "data": {
      "text/plain": [
       "          Outlet ID Brand Name  Sales Value       DATE\n",
       "2          Outlet 1    Brand 2     724.9328 2018-04-10\n",
       "7          Outlet 2    Brand 2     362.4664 2018-04-17\n",
       "8          Outlet 2    Brand 2     538.2660 2018-04-17\n",
       "9          Outlet 2    Brand 2     585.8100 2018-04-17\n",
       "12         Outlet 3    Brand 2     276.0948 2018-04-24\n",
       "...             ...        ...          ...        ...\n",
       "25449  Outlet 23552    Brand 2     878.7150 2018-04-12\n",
       "25456  Outlet 23554    Brand 2     292.9050 2018-04-12\n",
       "25460  Outlet 23556    Brand 2     585.8100 2018-04-12\n",
       "25463  Outlet 23557    Brand 2    1464.5250 2018-04-19\n",
       "25465  Outlet 23558    Brand 2     292.9050 2018-04-05\n",
       "\n",
       "[3547 rows x 4 columns]"
      ],
      "text/html": "<div>\n<style scoped>\n    .dataframe tbody tr th:only-of-type {\n        vertical-align: middle;\n    }\n\n    .dataframe tbody tr th {\n        vertical-align: top;\n    }\n\n    .dataframe thead th {\n        text-align: right;\n    }\n</style>\n<table border=\"1\" class=\"dataframe\">\n  <thead>\n    <tr style=\"text-align: right;\">\n      <th></th>\n      <th>Outlet ID</th>\n      <th>Brand Name</th>\n      <th>Sales Value</th>\n      <th>DATE</th>\n    </tr>\n  </thead>\n  <tbody>\n    <tr>\n      <th>2</th>\n      <td>Outlet 1</td>\n      <td>Brand 2</td>\n      <td>724.9328</td>\n      <td>2018-04-10</td>\n    </tr>\n    <tr>\n      <th>7</th>\n      <td>Outlet 2</td>\n      <td>Brand 2</td>\n      <td>362.4664</td>\n      <td>2018-04-17</td>\n    </tr>\n    <tr>\n      <th>8</th>\n      <td>Outlet 2</td>\n      <td>Brand 2</td>\n      <td>538.2660</td>\n      <td>2018-04-17</td>\n    </tr>\n    <tr>\n      <th>9</th>\n      <td>Outlet 2</td>\n      <td>Brand 2</td>\n      <td>585.8100</td>\n      <td>2018-04-17</td>\n    </tr>\n    <tr>\n      <th>12</th>\n      <td>Outlet 3</td>\n      <td>Brand 2</td>\n      <td>276.0948</td>\n      <td>2018-04-24</td>\n    </tr>\n    <tr>\n      <th>...</th>\n      <td>...</td>\n      <td>...</td>\n      <td>...</td>\n      <td>...</td>\n    </tr>\n    <tr>\n      <th>25449</th>\n      <td>Outlet 23552</td>\n      <td>Brand 2</td>\n      <td>878.7150</td>\n      <td>2018-04-12</td>\n    </tr>\n    <tr>\n      <th>25456</th>\n      <td>Outlet 23554</td>\n      <td>Brand 2</td>\n      <td>292.9050</td>\n      <td>2018-04-12</td>\n    </tr>\n    <tr>\n      <th>25460</th>\n      <td>Outlet 23556</td>\n      <td>Brand 2</td>\n      <td>585.8100</td>\n      <td>2018-04-12</td>\n    </tr>\n    <tr>\n      <th>25463</th>\n      <td>Outlet 23557</td>\n      <td>Brand 2</td>\n      <td>1464.5250</td>\n      <td>2018-04-19</td>\n    </tr>\n    <tr>\n      <th>25465</th>\n      <td>Outlet 23558</td>\n      <td>Brand 2</td>\n      <td>292.9050</td>\n      <td>2018-04-05</td>\n    </tr>\n  </tbody>\n</table>\n<p>3547 rows × 4 columns</p>\n</div>"
     },
     "metadata": {},
     "execution_count": 44
    }
   ],
   "source": [
    "brand2 = data[data['Brand Name']=='Brand 2']\n",
    "brand2\n"
   ]
  },
  {
   "cell_type": "code",
   "execution_count": 83,
   "metadata": {},
   "outputs": [
    {
     "output_type": "execute_result",
     "data": {
      "text/plain": [
       "             number of times purchased  total sales\n",
       "Outlet ID                                          \n",
       "Outlet 1                             1     724.9328\n",
       "Outlet 1037                          1     585.8100\n",
       "Outlet 1039                          2     944.6540\n",
       "Outlet 104                           1     362.4664\n",
       "Outlet 1040                          2     784.4194\n",
       "...                                ...          ...\n",
       "Outlet 890                           1     585.8100\n",
       "Outlet 9                             2     661.0314\n",
       "Outlet 926                           1     292.9050\n",
       "Outlet 930                           1     292.9050\n",
       "Outlet 931                           1     292.9050\n",
       "\n",
       "[2329 rows x 2 columns]"
      ],
      "text/html": "<div>\n<style scoped>\n    .dataframe tbody tr th:only-of-type {\n        vertical-align: middle;\n    }\n\n    .dataframe tbody tr th {\n        vertical-align: top;\n    }\n\n    .dataframe thead th {\n        text-align: right;\n    }\n</style>\n<table border=\"1\" class=\"dataframe\">\n  <thead>\n    <tr style=\"text-align: right;\">\n      <th></th>\n      <th>number of times purchased</th>\n      <th>total sales</th>\n    </tr>\n    <tr>\n      <th>Outlet ID</th>\n      <th></th>\n      <th></th>\n    </tr>\n  </thead>\n  <tbody>\n    <tr>\n      <th>Outlet 1</th>\n      <td>1</td>\n      <td>724.9328</td>\n    </tr>\n    <tr>\n      <th>Outlet 1037</th>\n      <td>1</td>\n      <td>585.8100</td>\n    </tr>\n    <tr>\n      <th>Outlet 1039</th>\n      <td>2</td>\n      <td>944.6540</td>\n    </tr>\n    <tr>\n      <th>Outlet 104</th>\n      <td>1</td>\n      <td>362.4664</td>\n    </tr>\n    <tr>\n      <th>Outlet 1040</th>\n      <td>2</td>\n      <td>784.4194</td>\n    </tr>\n    <tr>\n      <th>...</th>\n      <td>...</td>\n      <td>...</td>\n    </tr>\n    <tr>\n      <th>Outlet 890</th>\n      <td>1</td>\n      <td>585.8100</td>\n    </tr>\n    <tr>\n      <th>Outlet 9</th>\n      <td>2</td>\n      <td>661.0314</td>\n    </tr>\n    <tr>\n      <th>Outlet 926</th>\n      <td>1</td>\n      <td>292.9050</td>\n    </tr>\n    <tr>\n      <th>Outlet 930</th>\n      <td>1</td>\n      <td>292.9050</td>\n    </tr>\n    <tr>\n      <th>Outlet 931</th>\n      <td>1</td>\n      <td>292.9050</td>\n    </tr>\n  </tbody>\n</table>\n<p>2329 rows × 2 columns</p>\n</div>"
     },
     "metadata": {},
     "execution_count": 83
    }
   ],
   "source": [
    "# finding the outlets purchased for different number of times\n",
    "outlet_count = brand2.groupby(['Outlet ID']).count()\n",
    "outlet_count.drop(columns=['Sales Value','DATE'],inplace=True)\n",
    "outlet_count.columns = ['number of times purchased']\n",
    "outlet_count['total sales'] = brand2.groupby(['Outlet ID']).sum()\n",
    "outlet_count"
   ]
  },
  {
   "cell_type": "code",
   "execution_count": 84,
   "metadata": {},
   "outputs": [
    {
     "output_type": "execute_result",
     "data": {
      "text/plain": [
       "                           number of outlets   total sales\n",
       "number of times purchased                                 \n",
       "1                                       1436  1.039915e+06\n",
       "2                                        637  8.438762e+05\n",
       "3                                        197  3.874004e+05\n",
       "4                                         49  1.326351e+05\n",
       "5                                         10  4.002214e+04"
      ],
      "text/html": "<div>\n<style scoped>\n    .dataframe tbody tr th:only-of-type {\n        vertical-align: middle;\n    }\n\n    .dataframe tbody tr th {\n        vertical-align: top;\n    }\n\n    .dataframe thead th {\n        text-align: right;\n    }\n</style>\n<table border=\"1\" class=\"dataframe\">\n  <thead>\n    <tr style=\"text-align: right;\">\n      <th></th>\n      <th>number of outlets</th>\n      <th>total sales</th>\n    </tr>\n    <tr>\n      <th>number of times purchased</th>\n      <th></th>\n      <th></th>\n    </tr>\n  </thead>\n  <tbody>\n    <tr>\n      <th>1</th>\n      <td>1436</td>\n      <td>1.039915e+06</td>\n    </tr>\n    <tr>\n      <th>2</th>\n      <td>637</td>\n      <td>8.438762e+05</td>\n    </tr>\n    <tr>\n      <th>3</th>\n      <td>197</td>\n      <td>3.874004e+05</td>\n    </tr>\n    <tr>\n      <th>4</th>\n      <td>49</td>\n      <td>1.326351e+05</td>\n    </tr>\n    <tr>\n      <th>5</th>\n      <td>10</td>\n      <td>4.002214e+04</td>\n    </tr>\n  </tbody>\n</table>\n</div>"
     },
     "metadata": {},
     "execution_count": 84
    }
   ],
   "source": [
    "f_count = outlet_count.groupby(['number of times purchased']).count()\n",
    "f_count.columns = ['number of outlets']\n",
    "f_count['total sales'] = outlet_count.groupby(['number of times purchased']).sum()\n",
    "f_count"
   ]
  },
  {
   "cell_type": "code",
   "execution_count": 47,
   "metadata": {},
   "outputs": [
    {
     "output_type": "execute_result",
     "data": {
      "text/plain": [
       "0.6103940801927379"
      ]
     },
     "metadata": {},
     "execution_count": 47
    }
   ],
   "source": [
    "# frequncy of purchase of brand2\n",
    "fp = len(brand2)/t_outlet\n",
    "fp"
   ]
  },
  {
   "cell_type": "code",
   "execution_count": 49,
   "metadata": {},
   "outputs": [
    {
     "output_type": "execute_result",
     "data": {
      "text/plain": [
       "2443848.4244"
      ]
     },
     "metadata": {},
     "execution_count": 49
    }
   ],
   "source": [
    "#total number of sales value\n",
    "brand2['Sales Value'].sum()"
   ]
  },
  {
   "source": [
    "Brand 3"
   ],
   "cell_type": "markdown",
   "metadata": {}
  },
  {
   "cell_type": "code",
   "execution_count": 85,
   "metadata": {},
   "outputs": [
    {
     "output_type": "execute_result",
     "data": {
      "text/plain": [
       "          Outlet ID Brand Name  Sales Value       DATE\n",
       "3          Outlet 1    Brand 3     150.0466 2018-04-10\n",
       "4          Outlet 1    Brand 3     300.0932 2018-04-24\n",
       "13         Outlet 3    Brand 3     150.0466 2018-04-24\n",
       "14         Outlet 3    Brand 3     450.1398 2018-04-17\n",
       "22         Outlet 5    Brand 3     150.0466 2018-04-10\n",
       "...             ...        ...          ...        ...\n",
       "25464  Outlet 23557    Brand 3     150.0466 2018-04-19\n",
       "25466  Outlet 23558    Brand 3     300.0932 2018-04-05\n",
       "25468  Outlet 23559    Brand 3     150.0466 2018-04-05\n",
       "25470  Outlet 23560    Brand 3     300.0932 2018-04-05\n",
       "25472  Outlet 23561    Brand 3     150.0466 2018-04-05\n",
       "\n",
       "[1951 rows x 4 columns]"
      ],
      "text/html": "<div>\n<style scoped>\n    .dataframe tbody tr th:only-of-type {\n        vertical-align: middle;\n    }\n\n    .dataframe tbody tr th {\n        vertical-align: top;\n    }\n\n    .dataframe thead th {\n        text-align: right;\n    }\n</style>\n<table border=\"1\" class=\"dataframe\">\n  <thead>\n    <tr style=\"text-align: right;\">\n      <th></th>\n      <th>Outlet ID</th>\n      <th>Brand Name</th>\n      <th>Sales Value</th>\n      <th>DATE</th>\n    </tr>\n  </thead>\n  <tbody>\n    <tr>\n      <th>3</th>\n      <td>Outlet 1</td>\n      <td>Brand 3</td>\n      <td>150.0466</td>\n      <td>2018-04-10</td>\n    </tr>\n    <tr>\n      <th>4</th>\n      <td>Outlet 1</td>\n      <td>Brand 3</td>\n      <td>300.0932</td>\n      <td>2018-04-24</td>\n    </tr>\n    <tr>\n      <th>13</th>\n      <td>Outlet 3</td>\n      <td>Brand 3</td>\n      <td>150.0466</td>\n      <td>2018-04-24</td>\n    </tr>\n    <tr>\n      <th>14</th>\n      <td>Outlet 3</td>\n      <td>Brand 3</td>\n      <td>450.1398</td>\n      <td>2018-04-17</td>\n    </tr>\n    <tr>\n      <th>22</th>\n      <td>Outlet 5</td>\n      <td>Brand 3</td>\n      <td>150.0466</td>\n      <td>2018-04-10</td>\n    </tr>\n    <tr>\n      <th>...</th>\n      <td>...</td>\n      <td>...</td>\n      <td>...</td>\n      <td>...</td>\n    </tr>\n    <tr>\n      <th>25464</th>\n      <td>Outlet 23557</td>\n      <td>Brand 3</td>\n      <td>150.0466</td>\n      <td>2018-04-19</td>\n    </tr>\n    <tr>\n      <th>25466</th>\n      <td>Outlet 23558</td>\n      <td>Brand 3</td>\n      <td>300.0932</td>\n      <td>2018-04-05</td>\n    </tr>\n    <tr>\n      <th>25468</th>\n      <td>Outlet 23559</td>\n      <td>Brand 3</td>\n      <td>150.0466</td>\n      <td>2018-04-05</td>\n    </tr>\n    <tr>\n      <th>25470</th>\n      <td>Outlet 23560</td>\n      <td>Brand 3</td>\n      <td>300.0932</td>\n      <td>2018-04-05</td>\n    </tr>\n    <tr>\n      <th>25472</th>\n      <td>Outlet 23561</td>\n      <td>Brand 3</td>\n      <td>150.0466</td>\n      <td>2018-04-05</td>\n    </tr>\n  </tbody>\n</table>\n<p>1951 rows × 4 columns</p>\n</div>"
     },
     "metadata": {},
     "execution_count": 85
    }
   ],
   "source": [
    "brand3 = data[data['Brand Name']=='Brand 3']\n",
    "brand3"
   ]
  },
  {
   "cell_type": "code",
   "execution_count": 86,
   "metadata": {},
   "outputs": [
    {
     "output_type": "execute_result",
     "data": {
      "text/plain": [
       "             number of times purchased  total sales\n",
       "Outlet ID                                          \n",
       "Outlet 1                             2     450.1398\n",
       "Outlet 10                            1     150.0466\n",
       "Outlet 100                           1     600.1864\n",
       "Outlet 1000                          2     600.1864\n",
       "Outlet 1007                          1     300.0932\n",
       "...                                ...          ...\n",
       "Outlet 982                           1     450.1398\n",
       "Outlet 99                            1     300.0932\n",
       "Outlet 992                           2     900.2796\n",
       "Outlet 996                           1     150.0466\n",
       "Outlet 999                           1     750.2330\n",
       "\n",
       "[1762 rows x 2 columns]"
      ],
      "text/html": "<div>\n<style scoped>\n    .dataframe tbody tr th:only-of-type {\n        vertical-align: middle;\n    }\n\n    .dataframe tbody tr th {\n        vertical-align: top;\n    }\n\n    .dataframe thead th {\n        text-align: right;\n    }\n</style>\n<table border=\"1\" class=\"dataframe\">\n  <thead>\n    <tr style=\"text-align: right;\">\n      <th></th>\n      <th>number of times purchased</th>\n      <th>total sales</th>\n    </tr>\n    <tr>\n      <th>Outlet ID</th>\n      <th></th>\n      <th></th>\n    </tr>\n  </thead>\n  <tbody>\n    <tr>\n      <th>Outlet 1</th>\n      <td>2</td>\n      <td>450.1398</td>\n    </tr>\n    <tr>\n      <th>Outlet 10</th>\n      <td>1</td>\n      <td>150.0466</td>\n    </tr>\n    <tr>\n      <th>Outlet 100</th>\n      <td>1</td>\n      <td>600.1864</td>\n    </tr>\n    <tr>\n      <th>Outlet 1000</th>\n      <td>2</td>\n      <td>600.1864</td>\n    </tr>\n    <tr>\n      <th>Outlet 1007</th>\n      <td>1</td>\n      <td>300.0932</td>\n    </tr>\n    <tr>\n      <th>...</th>\n      <td>...</td>\n      <td>...</td>\n    </tr>\n    <tr>\n      <th>Outlet 982</th>\n      <td>1</td>\n      <td>450.1398</td>\n    </tr>\n    <tr>\n      <th>Outlet 99</th>\n      <td>1</td>\n      <td>300.0932</td>\n    </tr>\n    <tr>\n      <th>Outlet 992</th>\n      <td>2</td>\n      <td>900.2796</td>\n    </tr>\n    <tr>\n      <th>Outlet 996</th>\n      <td>1</td>\n      <td>150.0466</td>\n    </tr>\n    <tr>\n      <th>Outlet 999</th>\n      <td>1</td>\n      <td>750.2330</td>\n    </tr>\n  </tbody>\n</table>\n<p>1762 rows × 2 columns</p>\n</div>"
     },
     "metadata": {},
     "execution_count": 86
    }
   ],
   "source": [
    "# finding the outlets purchased for different number of times\n",
    "outlet_count = brand3.groupby(['Outlet ID']).count()\n",
    "outlet_count.drop(columns=['Sales Value','DATE'],inplace=True)\n",
    "outlet_count.columns = ['number of times purchased']\n",
    "outlet_count['total sales'] = brand3.groupby(['Outlet ID']).sum()\n",
    "outlet_count"
   ]
  },
  {
   "cell_type": "code",
   "execution_count": 87,
   "metadata": {},
   "outputs": [
    {
     "output_type": "execute_result",
     "data": {
      "text/plain": [
       "                           number of outlets  total sales\n",
       "number of times purchased                                \n",
       "1                                       1588  612790.3144\n",
       "2                                        159  127689.6566\n",
       "3                                         15   12153.7746"
      ],
      "text/html": "<div>\n<style scoped>\n    .dataframe tbody tr th:only-of-type {\n        vertical-align: middle;\n    }\n\n    .dataframe tbody tr th {\n        vertical-align: top;\n    }\n\n    .dataframe thead th {\n        text-align: right;\n    }\n</style>\n<table border=\"1\" class=\"dataframe\">\n  <thead>\n    <tr style=\"text-align: right;\">\n      <th></th>\n      <th>number of outlets</th>\n      <th>total sales</th>\n    </tr>\n    <tr>\n      <th>number of times purchased</th>\n      <th></th>\n      <th></th>\n    </tr>\n  </thead>\n  <tbody>\n    <tr>\n      <th>1</th>\n      <td>1588</td>\n      <td>612790.3144</td>\n    </tr>\n    <tr>\n      <th>2</th>\n      <td>159</td>\n      <td>127689.6566</td>\n    </tr>\n    <tr>\n      <th>3</th>\n      <td>15</td>\n      <td>12153.7746</td>\n    </tr>\n  </tbody>\n</table>\n</div>"
     },
     "metadata": {},
     "execution_count": 87
    }
   ],
   "source": [
    "f_count = outlet_count.groupby(['number of times purchased']).count()\n",
    "f_count.columns = ['number of outlets']\n",
    "f_count['total sales'] = outlet_count.groupby(['number of times purchased']).sum()\n",
    "f_count"
   ]
  },
  {
   "cell_type": "code",
   "execution_count": 88,
   "metadata": {},
   "outputs": [
    {
     "output_type": "execute_result",
     "data": {
      "text/plain": [
       "0.33574255721906726"
      ]
     },
     "metadata": {},
     "execution_count": 88
    }
   ],
   "source": [
    "# frequncy of purchase of brand2\n",
    "fp = len(brand3)/t_outlet\n",
    "fp"
   ]
  },
  {
   "cell_type": "code",
   "execution_count": 89,
   "metadata": {},
   "outputs": [
    {
     "output_type": "execute_result",
     "data": {
      "text/plain": [
       "752633.7456000001"
      ]
     },
     "metadata": {},
     "execution_count": 89
    }
   ],
   "source": [
    "#total number of sales value\n",
    "brand3['Sales Value'].sum()"
   ]
  },
  {
   "source": [
    "Brand 4"
   ],
   "cell_type": "markdown",
   "metadata": {}
  },
  {
   "cell_type": "code",
   "execution_count": 91,
   "metadata": {},
   "outputs": [
    {
     "output_type": "execute_result",
     "data": {
      "text/plain": [
       "          Outlet ID Brand Name  Sales Value       DATE\n",
       "5          Outlet 1    Brand 4     173.0828 2018-04-24\n",
       "15         Outlet 3    Brand 4     220.9098 2018-04-24\n",
       "18         Outlet 4    Brand 4     220.9098 2018-04-10\n",
       "24         Outlet 5    Brand 4     220.9098 2018-04-10\n",
       "30         Outlet 7    Brand 4     220.9098 2018-04-10\n",
       "...             ...        ...          ...        ...\n",
       "24716  Outlet 23376    Brand 4    2700.3860 2018-04-26\n",
       "24733  Outlet 23379    Brand 4     441.8196 2018-04-28\n",
       "24738  Outlet 23380    Brand 4     441.8196 2018-04-11\n",
       "25439  Outlet 23548    Brand 4     270.0386 2018-04-20\n",
       "25440  Outlet 23548    Brand 4     346.1656 2018-04-20\n",
       "\n",
       "[546 rows x 4 columns]"
      ],
      "text/html": "<div>\n<style scoped>\n    .dataframe tbody tr th:only-of-type {\n        vertical-align: middle;\n    }\n\n    .dataframe tbody tr th {\n        vertical-align: top;\n    }\n\n    .dataframe thead th {\n        text-align: right;\n    }\n</style>\n<table border=\"1\" class=\"dataframe\">\n  <thead>\n    <tr style=\"text-align: right;\">\n      <th></th>\n      <th>Outlet ID</th>\n      <th>Brand Name</th>\n      <th>Sales Value</th>\n      <th>DATE</th>\n    </tr>\n  </thead>\n  <tbody>\n    <tr>\n      <th>5</th>\n      <td>Outlet 1</td>\n      <td>Brand 4</td>\n      <td>173.0828</td>\n      <td>2018-04-24</td>\n    </tr>\n    <tr>\n      <th>15</th>\n      <td>Outlet 3</td>\n      <td>Brand 4</td>\n      <td>220.9098</td>\n      <td>2018-04-24</td>\n    </tr>\n    <tr>\n      <th>18</th>\n      <td>Outlet 4</td>\n      <td>Brand 4</td>\n      <td>220.9098</td>\n      <td>2018-04-10</td>\n    </tr>\n    <tr>\n      <th>24</th>\n      <td>Outlet 5</td>\n      <td>Brand 4</td>\n      <td>220.9098</td>\n      <td>2018-04-10</td>\n    </tr>\n    <tr>\n      <th>30</th>\n      <td>Outlet 7</td>\n      <td>Brand 4</td>\n      <td>220.9098</td>\n      <td>2018-04-10</td>\n    </tr>\n    <tr>\n      <th>...</th>\n      <td>...</td>\n      <td>...</td>\n      <td>...</td>\n      <td>...</td>\n    </tr>\n    <tr>\n      <th>24716</th>\n      <td>Outlet 23376</td>\n      <td>Brand 4</td>\n      <td>2700.3860</td>\n      <td>2018-04-26</td>\n    </tr>\n    <tr>\n      <th>24733</th>\n      <td>Outlet 23379</td>\n      <td>Brand 4</td>\n      <td>441.8196</td>\n      <td>2018-04-28</td>\n    </tr>\n    <tr>\n      <th>24738</th>\n      <td>Outlet 23380</td>\n      <td>Brand 4</td>\n      <td>441.8196</td>\n      <td>2018-04-11</td>\n    </tr>\n    <tr>\n      <th>25439</th>\n      <td>Outlet 23548</td>\n      <td>Brand 4</td>\n      <td>270.0386</td>\n      <td>2018-04-20</td>\n    </tr>\n    <tr>\n      <th>25440</th>\n      <td>Outlet 23548</td>\n      <td>Brand 4</td>\n      <td>346.1656</td>\n      <td>2018-04-20</td>\n    </tr>\n  </tbody>\n</table>\n<p>546 rows × 4 columns</p>\n</div>"
     },
     "metadata": {},
     "execution_count": 91
    }
   ],
   "source": [
    "brand4 = data[data['Brand Name']=='Brand 4']\n",
    "brand4"
   ]
  },
  {
   "cell_type": "code",
   "execution_count": 92,
   "metadata": {},
   "outputs": [
    {
     "output_type": "execute_result",
     "data": {
      "text/plain": [
       "             number of times purchased  total sales\n",
       "Outlet ID                                          \n",
       "Outlet 1                             1     173.0828\n",
       "Outlet 103                           1     220.9098\n",
       "Outlet 1037                          1     270.0386\n",
       "Outlet 104                           1     220.9098\n",
       "Outlet 106                           1     220.9098\n",
       "...                                ...          ...\n",
       "Outlet 91                            1     220.9098\n",
       "Outlet 92                            1     220.9098\n",
       "Outlet 93                            1     220.9098\n",
       "Outlet 95                            1     220.9098\n",
       "Outlet 96                            1     220.9098\n",
       "\n",
       "[406 rows x 2 columns]"
      ],
      "text/html": "<div>\n<style scoped>\n    .dataframe tbody tr th:only-of-type {\n        vertical-align: middle;\n    }\n\n    .dataframe tbody tr th {\n        vertical-align: top;\n    }\n\n    .dataframe thead th {\n        text-align: right;\n    }\n</style>\n<table border=\"1\" class=\"dataframe\">\n  <thead>\n    <tr style=\"text-align: right;\">\n      <th></th>\n      <th>number of times purchased</th>\n      <th>total sales</th>\n    </tr>\n    <tr>\n      <th>Outlet ID</th>\n      <th></th>\n      <th></th>\n    </tr>\n  </thead>\n  <tbody>\n    <tr>\n      <th>Outlet 1</th>\n      <td>1</td>\n      <td>173.0828</td>\n    </tr>\n    <tr>\n      <th>Outlet 103</th>\n      <td>1</td>\n      <td>220.9098</td>\n    </tr>\n    <tr>\n      <th>Outlet 1037</th>\n      <td>1</td>\n      <td>270.0386</td>\n    </tr>\n    <tr>\n      <th>Outlet 104</th>\n      <td>1</td>\n      <td>220.9098</td>\n    </tr>\n    <tr>\n      <th>Outlet 106</th>\n      <td>1</td>\n      <td>220.9098</td>\n    </tr>\n    <tr>\n      <th>...</th>\n      <td>...</td>\n      <td>...</td>\n    </tr>\n    <tr>\n      <th>Outlet 91</th>\n      <td>1</td>\n      <td>220.9098</td>\n    </tr>\n    <tr>\n      <th>Outlet 92</th>\n      <td>1</td>\n      <td>220.9098</td>\n    </tr>\n    <tr>\n      <th>Outlet 93</th>\n      <td>1</td>\n      <td>220.9098</td>\n    </tr>\n    <tr>\n      <th>Outlet 95</th>\n      <td>1</td>\n      <td>220.9098</td>\n    </tr>\n    <tr>\n      <th>Outlet 96</th>\n      <td>1</td>\n      <td>220.9098</td>\n    </tr>\n  </tbody>\n</table>\n<p>406 rows × 2 columns</p>\n</div>"
     },
     "metadata": {},
     "execution_count": 92
    }
   ],
   "source": [
    "# finding the outlets purchased for different number of times\n",
    "outlet_count = brand4.groupby(['Outlet ID']).count()\n",
    "outlet_count.drop(columns=['Sales Value','DATE'],inplace=True)\n",
    "outlet_count.columns = ['number of times purchased']\n",
    "outlet_count['total sales'] = brand4.groupby(['Outlet ID']).sum()\n",
    "outlet_count"
   ]
  },
  {
   "cell_type": "code",
   "execution_count": 93,
   "metadata": {},
   "outputs": [
    {
     "output_type": "execute_result",
     "data": {
      "text/plain": [
       "                           number of outlets  total sales\n",
       "number of times purchased                                \n",
       "1                                        303  146858.4352\n",
       "2                                         73   50729.2782\n",
       "3                                         24   21639.5950\n",
       "4                                          5    5074.0768\n",
       "5                                          1    1745.9402"
      ],
      "text/html": "<div>\n<style scoped>\n    .dataframe tbody tr th:only-of-type {\n        vertical-align: middle;\n    }\n\n    .dataframe tbody tr th {\n        vertical-align: top;\n    }\n\n    .dataframe thead th {\n        text-align: right;\n    }\n</style>\n<table border=\"1\" class=\"dataframe\">\n  <thead>\n    <tr style=\"text-align: right;\">\n      <th></th>\n      <th>number of outlets</th>\n      <th>total sales</th>\n    </tr>\n    <tr>\n      <th>number of times purchased</th>\n      <th></th>\n      <th></th>\n    </tr>\n  </thead>\n  <tbody>\n    <tr>\n      <th>1</th>\n      <td>303</td>\n      <td>146858.4352</td>\n    </tr>\n    <tr>\n      <th>2</th>\n      <td>73</td>\n      <td>50729.2782</td>\n    </tr>\n    <tr>\n      <th>3</th>\n      <td>24</td>\n      <td>21639.5950</td>\n    </tr>\n    <tr>\n      <th>4</th>\n      <td>5</td>\n      <td>5074.0768</td>\n    </tr>\n    <tr>\n      <th>5</th>\n      <td>1</td>\n      <td>1745.9402</td>\n    </tr>\n  </tbody>\n</table>\n</div>"
     },
     "metadata": {},
     "execution_count": 93
    }
   ],
   "source": [
    "f_count = outlet_count.groupby(['number of times purchased']).count()\n",
    "f_count.columns = ['number of outlets']\n",
    "f_count['total sales'] = outlet_count.groupby(['number of times purchased']).sum()\n",
    "f_count"
   ]
  },
  {
   "cell_type": "code",
   "execution_count": 94,
   "metadata": {},
   "outputs": [
    {
     "output_type": "execute_result",
     "data": {
      "text/plain": [
       "0.09395973154362416"
      ]
     },
     "metadata": {},
     "execution_count": 94
    }
   ],
   "source": [
    "# frequncy of purchase of brand2\n",
    "fp = len(brand4)/t_outlet\n",
    "fp"
   ]
  },
  {
   "cell_type": "code",
   "execution_count": 96,
   "metadata": {},
   "outputs": [
    {
     "output_type": "execute_result",
     "data": {
      "text/plain": [
       "226047.3254"
      ]
     },
     "metadata": {},
     "execution_count": 96
    }
   ],
   "source": [
    "#total number of sales value\n",
    "brand4['Sales Value'].sum()"
   ]
  },
  {
   "source": [
    "Brand 5"
   ],
   "cell_type": "markdown",
   "metadata": {}
  },
  {
   "cell_type": "code",
   "execution_count": 102,
   "metadata": {},
   "outputs": [
    {
     "output_type": "execute_result",
     "data": {
      "text/plain": [
       "          Outlet ID Brand Name  Sales Value       DATE\n",
       "10         Outlet 3    Brand 5     350.2408 2018-04-17\n",
       "19         Outlet 5    Brand 5     350.2408 2018-04-24\n",
       "47        Outlet 11    Brand 5     350.2408 2018-04-17\n",
       "62        Outlet 15    Brand 5     350.2408 2018-04-03\n",
       "68        Outlet 17    Brand 5     350.2408 2018-04-03\n",
       "...             ...        ...          ...        ...\n",
       "25324  Outlet 23513    Brand 5     764.1000 2018-04-21\n",
       "25333  Outlet 23514    Brand 5     764.1000 2018-04-07\n",
       "25334  Outlet 23514    Brand 5     764.1000 2018-04-21\n",
       "25347  Outlet 23516    Brand 5     764.1000 2018-04-25\n",
       "25448  Outlet 23551    Brand 5    2292.3000 2018-04-19\n",
       "\n",
       "[1496 rows x 4 columns]"
      ],
      "text/html": "<div>\n<style scoped>\n    .dataframe tbody tr th:only-of-type {\n        vertical-align: middle;\n    }\n\n    .dataframe tbody tr th {\n        vertical-align: top;\n    }\n\n    .dataframe thead th {\n        text-align: right;\n    }\n</style>\n<table border=\"1\" class=\"dataframe\">\n  <thead>\n    <tr style=\"text-align: right;\">\n      <th></th>\n      <th>Outlet ID</th>\n      <th>Brand Name</th>\n      <th>Sales Value</th>\n      <th>DATE</th>\n    </tr>\n  </thead>\n  <tbody>\n    <tr>\n      <th>10</th>\n      <td>Outlet 3</td>\n      <td>Brand 5</td>\n      <td>350.2408</td>\n      <td>2018-04-17</td>\n    </tr>\n    <tr>\n      <th>19</th>\n      <td>Outlet 5</td>\n      <td>Brand 5</td>\n      <td>350.2408</td>\n      <td>2018-04-24</td>\n    </tr>\n    <tr>\n      <th>47</th>\n      <td>Outlet 11</td>\n      <td>Brand 5</td>\n      <td>350.2408</td>\n      <td>2018-04-17</td>\n    </tr>\n    <tr>\n      <th>62</th>\n      <td>Outlet 15</td>\n      <td>Brand 5</td>\n      <td>350.2408</td>\n      <td>2018-04-03</td>\n    </tr>\n    <tr>\n      <th>68</th>\n      <td>Outlet 17</td>\n      <td>Brand 5</td>\n      <td>350.2408</td>\n      <td>2018-04-03</td>\n    </tr>\n    <tr>\n      <th>...</th>\n      <td>...</td>\n      <td>...</td>\n      <td>...</td>\n      <td>...</td>\n    </tr>\n    <tr>\n      <th>25324</th>\n      <td>Outlet 23513</td>\n      <td>Brand 5</td>\n      <td>764.1000</td>\n      <td>2018-04-21</td>\n    </tr>\n    <tr>\n      <th>25333</th>\n      <td>Outlet 23514</td>\n      <td>Brand 5</td>\n      <td>764.1000</td>\n      <td>2018-04-07</td>\n    </tr>\n    <tr>\n      <th>25334</th>\n      <td>Outlet 23514</td>\n      <td>Brand 5</td>\n      <td>764.1000</td>\n      <td>2018-04-21</td>\n    </tr>\n    <tr>\n      <th>25347</th>\n      <td>Outlet 23516</td>\n      <td>Brand 5</td>\n      <td>764.1000</td>\n      <td>2018-04-25</td>\n    </tr>\n    <tr>\n      <th>25448</th>\n      <td>Outlet 23551</td>\n      <td>Brand 5</td>\n      <td>2292.3000</td>\n      <td>2018-04-19</td>\n    </tr>\n  </tbody>\n</table>\n<p>1496 rows × 4 columns</p>\n</div>"
     },
     "metadata": {},
     "execution_count": 102
    }
   ],
   "source": [
    "brand5 = data[data['Brand Name']=='Brand 5']\n",
    "brand5\n"
   ]
  },
  {
   "cell_type": "code",
   "execution_count": 103,
   "metadata": {},
   "outputs": [
    {
     "output_type": "execute_result",
     "data": {
      "text/plain": [
       "             number of times purchased  total sales\n",
       "Outlet ID                                          \n",
       "Outlet 1002                          1    1528.2000\n",
       "Outlet 1003                          1     700.4816\n",
       "Outlet 1004                          1     764.1000\n",
       "Outlet 1023                          1     764.1000\n",
       "Outlet 1025                          1     764.1000\n",
       "...                                ...          ...\n",
       "Outlet 971                           1    1528.2000\n",
       "Outlet 973                           1    1528.2000\n",
       "Outlet 991                           1    1528.2000\n",
       "Outlet 993                           1     764.1000\n",
       "Outlet 994                           1     764.1000\n",
       "\n",
       "[1300 rows x 2 columns]"
      ],
      "text/html": "<div>\n<style scoped>\n    .dataframe tbody tr th:only-of-type {\n        vertical-align: middle;\n    }\n\n    .dataframe tbody tr th {\n        vertical-align: top;\n    }\n\n    .dataframe thead th {\n        text-align: right;\n    }\n</style>\n<table border=\"1\" class=\"dataframe\">\n  <thead>\n    <tr style=\"text-align: right;\">\n      <th></th>\n      <th>number of times purchased</th>\n      <th>total sales</th>\n    </tr>\n    <tr>\n      <th>Outlet ID</th>\n      <th></th>\n      <th></th>\n    </tr>\n  </thead>\n  <tbody>\n    <tr>\n      <th>Outlet 1002</th>\n      <td>1</td>\n      <td>1528.2000</td>\n    </tr>\n    <tr>\n      <th>Outlet 1003</th>\n      <td>1</td>\n      <td>700.4816</td>\n    </tr>\n    <tr>\n      <th>Outlet 1004</th>\n      <td>1</td>\n      <td>764.1000</td>\n    </tr>\n    <tr>\n      <th>Outlet 1023</th>\n      <td>1</td>\n      <td>764.1000</td>\n    </tr>\n    <tr>\n      <th>Outlet 1025</th>\n      <td>1</td>\n      <td>764.1000</td>\n    </tr>\n    <tr>\n      <th>...</th>\n      <td>...</td>\n      <td>...</td>\n    </tr>\n    <tr>\n      <th>Outlet 971</th>\n      <td>1</td>\n      <td>1528.2000</td>\n    </tr>\n    <tr>\n      <th>Outlet 973</th>\n      <td>1</td>\n      <td>1528.2000</td>\n    </tr>\n    <tr>\n      <th>Outlet 991</th>\n      <td>1</td>\n      <td>1528.2000</td>\n    </tr>\n    <tr>\n      <th>Outlet 993</th>\n      <td>1</td>\n      <td>764.1000</td>\n    </tr>\n    <tr>\n      <th>Outlet 994</th>\n      <td>1</td>\n      <td>764.1000</td>\n    </tr>\n  </tbody>\n</table>\n<p>1300 rows × 2 columns</p>\n</div>"
     },
     "metadata": {},
     "execution_count": 103
    }
   ],
   "source": [
    "# finding the outlets purchased for different number of times\n",
    "outlet_count = brand5.groupby(['Outlet ID']).count()\n",
    "outlet_count.drop(columns=['Sales Value','DATE'],inplace=True)\n",
    "outlet_count.columns = ['number of times purchased']\n",
    "outlet_count['total sales'] = brand5.groupby(['Outlet ID']).sum()\n",
    "outlet_count"
   ]
  },
  {
   "cell_type": "code",
   "execution_count": 104,
   "metadata": {},
   "outputs": [
    {
     "output_type": "execute_result",
     "data": {
      "text/plain": [
       "                           number of outlets   total sales\n",
       "number of times purchased                                 \n",
       "1                                       1112  2.105609e+06\n",
       "2                                        180  6.353515e+05\n",
       "3                                          8  2.518383e+04"
      ],
      "text/html": "<div>\n<style scoped>\n    .dataframe tbody tr th:only-of-type {\n        vertical-align: middle;\n    }\n\n    .dataframe tbody tr th {\n        vertical-align: top;\n    }\n\n    .dataframe thead th {\n        text-align: right;\n    }\n</style>\n<table border=\"1\" class=\"dataframe\">\n  <thead>\n    <tr style=\"text-align: right;\">\n      <th></th>\n      <th>number of outlets</th>\n      <th>total sales</th>\n    </tr>\n    <tr>\n      <th>number of times purchased</th>\n      <th></th>\n      <th></th>\n    </tr>\n  </thead>\n  <tbody>\n    <tr>\n      <th>1</th>\n      <td>1112</td>\n      <td>2.105609e+06</td>\n    </tr>\n    <tr>\n      <th>2</th>\n      <td>180</td>\n      <td>6.353515e+05</td>\n    </tr>\n    <tr>\n      <th>3</th>\n      <td>8</td>\n      <td>2.518383e+04</td>\n    </tr>\n  </tbody>\n</table>\n</div>"
     },
     "metadata": {},
     "execution_count": 104
    }
   ],
   "source": [
    "f_count = outlet_count.groupby(['number of times purchased']).count()\n",
    "f_count.columns = ['number of outlets']\n",
    "f_count['total sales'] = outlet_count.groupby(['number of times purchased']).sum()\n",
    "f_count"
   ]
  },
  {
   "cell_type": "code",
   "execution_count": 106,
   "metadata": {},
   "outputs": [
    {
     "output_type": "execute_result",
     "data": {
      "text/plain": [
       "0.25744278093271383"
      ]
     },
     "metadata": {},
     "execution_count": 106
    }
   ],
   "source": [
    "# frequncy of purchase of brand2\n",
    "fp = len(brand5)/t_outlet\n",
    "fp"
   ]
  },
  {
   "cell_type": "code",
   "execution_count": 108,
   "metadata": {},
   "outputs": [
    {
     "output_type": "execute_result",
     "data": {
      "text/plain": [
       "2766143.88"
      ]
     },
     "metadata": {},
     "execution_count": 108
    }
   ],
   "source": [
    "#total number of sales value\n",
    "brand5['Sales Value'].sum()"
   ]
  },
  {
   "source": [
    "Brand 6"
   ],
   "cell_type": "markdown",
   "metadata": {}
  },
  {
   "cell_type": "code",
   "execution_count": 114,
   "metadata": {},
   "outputs": [
    {
     "output_type": "execute_result",
     "data": {
      "text/plain": [
       "          Outlet ID Brand Name  Sales Value       DATE\n",
       "83        Outlet 20    Brand 6     276.6608 2018-04-17\n",
       "128       Outlet 30    Brand 6     366.2020 2018-04-17\n",
       "134       Outlet 32    Brand 6    1383.3040 2018-04-17\n",
       "141       Outlet 34    Brand 6     679.2000 2018-04-17\n",
       "142       Outlet 34    Brand 6    1106.6432 2018-04-17\n",
       "...             ...        ...          ...        ...\n",
       "25220  Outlet 23487    Brand 6     553.3216 2018-04-18\n",
       "25258  Outlet 23496    Brand 6     366.2020 2018-04-18\n",
       "25266  Outlet 23497    Brand 6    1098.6060 2018-04-17\n",
       "25315  Outlet 23512    Brand 6     549.3030 2018-04-07\n",
       "25446  Outlet 23551    Brand 6     829.9824 2018-04-19\n",
       "\n",
       "[1868 rows x 4 columns]"
      ],
      "text/html": "<div>\n<style scoped>\n    .dataframe tbody tr th:only-of-type {\n        vertical-align: middle;\n    }\n\n    .dataframe tbody tr th {\n        vertical-align: top;\n    }\n\n    .dataframe thead th {\n        text-align: right;\n    }\n</style>\n<table border=\"1\" class=\"dataframe\">\n  <thead>\n    <tr style=\"text-align: right;\">\n      <th></th>\n      <th>Outlet ID</th>\n      <th>Brand Name</th>\n      <th>Sales Value</th>\n      <th>DATE</th>\n    </tr>\n  </thead>\n  <tbody>\n    <tr>\n      <th>83</th>\n      <td>Outlet 20</td>\n      <td>Brand 6</td>\n      <td>276.6608</td>\n      <td>2018-04-17</td>\n    </tr>\n    <tr>\n      <th>128</th>\n      <td>Outlet 30</td>\n      <td>Brand 6</td>\n      <td>366.2020</td>\n      <td>2018-04-17</td>\n    </tr>\n    <tr>\n      <th>134</th>\n      <td>Outlet 32</td>\n      <td>Brand 6</td>\n      <td>1383.3040</td>\n      <td>2018-04-17</td>\n    </tr>\n    <tr>\n      <th>141</th>\n      <td>Outlet 34</td>\n      <td>Brand 6</td>\n      <td>679.2000</td>\n      <td>2018-04-17</td>\n    </tr>\n    <tr>\n      <th>142</th>\n      <td>Outlet 34</td>\n      <td>Brand 6</td>\n      <td>1106.6432</td>\n      <td>2018-04-17</td>\n    </tr>\n    <tr>\n      <th>...</th>\n      <td>...</td>\n      <td>...</td>\n      <td>...</td>\n      <td>...</td>\n    </tr>\n    <tr>\n      <th>25220</th>\n      <td>Outlet 23487</td>\n      <td>Brand 6</td>\n      <td>553.3216</td>\n      <td>2018-04-18</td>\n    </tr>\n    <tr>\n      <th>25258</th>\n      <td>Outlet 23496</td>\n      <td>Brand 6</td>\n      <td>366.2020</td>\n      <td>2018-04-18</td>\n    </tr>\n    <tr>\n      <th>25266</th>\n      <td>Outlet 23497</td>\n      <td>Brand 6</td>\n      <td>1098.6060</td>\n      <td>2018-04-17</td>\n    </tr>\n    <tr>\n      <th>25315</th>\n      <td>Outlet 23512</td>\n      <td>Brand 6</td>\n      <td>549.3030</td>\n      <td>2018-04-07</td>\n    </tr>\n    <tr>\n      <th>25446</th>\n      <td>Outlet 23551</td>\n      <td>Brand 6</td>\n      <td>829.9824</td>\n      <td>2018-04-19</td>\n    </tr>\n  </tbody>\n</table>\n<p>1868 rows × 4 columns</p>\n</div>"
     },
     "metadata": {},
     "execution_count": 114
    }
   ],
   "source": [
    "brand6 = data[data['Brand Name']=='Brand 6']\n",
    "brand6"
   ]
  },
  {
   "cell_type": "code",
   "execution_count": 115,
   "metadata": {},
   "outputs": [
    {
     "output_type": "execute_result",
     "data": {
      "text/plain": [
       "             number of times purchased  total sales\n",
       "Outlet ID                                          \n",
       "Outlet 1002                          2    1379.2854\n",
       "Outlet 1003                          2    1379.2854\n",
       "Outlet 1004                          1     829.9824\n",
       "Outlet 1023                          2    1655.9462\n",
       "Outlet 1027                          2    1562.3864\n",
       "...                                ...          ...\n",
       "Outlet 991                           2    1379.2854\n",
       "Outlet 993                           1     732.4040\n",
       "Outlet 994                           1     829.9824\n",
       "Outlet 995                           2    1285.7256\n",
       "Outlet 998                           2    1379.2854\n",
       "\n",
       "[1369 rows x 2 columns]"
      ],
      "text/html": "<div>\n<style scoped>\n    .dataframe tbody tr th:only-of-type {\n        vertical-align: middle;\n    }\n\n    .dataframe tbody tr th {\n        vertical-align: top;\n    }\n\n    .dataframe thead th {\n        text-align: right;\n    }\n</style>\n<table border=\"1\" class=\"dataframe\">\n  <thead>\n    <tr style=\"text-align: right;\">\n      <th></th>\n      <th>number of times purchased</th>\n      <th>total sales</th>\n    </tr>\n    <tr>\n      <th>Outlet ID</th>\n      <th></th>\n      <th></th>\n    </tr>\n  </thead>\n  <tbody>\n    <tr>\n      <th>Outlet 1002</th>\n      <td>2</td>\n      <td>1379.2854</td>\n    </tr>\n    <tr>\n      <th>Outlet 1003</th>\n      <td>2</td>\n      <td>1379.2854</td>\n    </tr>\n    <tr>\n      <th>Outlet 1004</th>\n      <td>1</td>\n      <td>829.9824</td>\n    </tr>\n    <tr>\n      <th>Outlet 1023</th>\n      <td>2</td>\n      <td>1655.9462</td>\n    </tr>\n    <tr>\n      <th>Outlet 1027</th>\n      <td>2</td>\n      <td>1562.3864</td>\n    </tr>\n    <tr>\n      <th>...</th>\n      <td>...</td>\n      <td>...</td>\n    </tr>\n    <tr>\n      <th>Outlet 991</th>\n      <td>2</td>\n      <td>1379.2854</td>\n    </tr>\n    <tr>\n      <th>Outlet 993</th>\n      <td>1</td>\n      <td>732.4040</td>\n    </tr>\n    <tr>\n      <th>Outlet 994</th>\n      <td>1</td>\n      <td>829.9824</td>\n    </tr>\n    <tr>\n      <th>Outlet 995</th>\n      <td>2</td>\n      <td>1285.7256</td>\n    </tr>\n    <tr>\n      <th>Outlet 998</th>\n      <td>2</td>\n      <td>1379.2854</td>\n    </tr>\n  </tbody>\n</table>\n<p>1369 rows × 2 columns</p>\n</div>"
     },
     "metadata": {},
     "execution_count": 115
    }
   ],
   "source": [
    "# finding the outlets purchased for different number of times\n",
    "outlet_count = brand6.groupby(['Outlet ID']).count()\n",
    "outlet_count.drop(columns=['Sales Value','DATE'],inplace=True)\n",
    "outlet_count.columns = ['number of times purchased']\n",
    "outlet_count['total sales'] = brand6.groupby(['Outlet ID']).sum()\n",
    "outlet_count"
   ]
  },
  {
   "cell_type": "code",
   "execution_count": 116,
   "metadata": {},
   "outputs": [
    {
     "output_type": "execute_result",
     "data": {
      "text/plain": [
       "                           number of outlets  total sales\n",
       "number of times purchased                                \n",
       "1                                        912  582795.8802\n",
       "2                                        421  480188.1174\n",
       "3                                         30   44579.4052\n",
       "4                                          6   10818.0712"
      ],
      "text/html": "<div>\n<style scoped>\n    .dataframe tbody tr th:only-of-type {\n        vertical-align: middle;\n    }\n\n    .dataframe tbody tr th {\n        vertical-align: top;\n    }\n\n    .dataframe thead th {\n        text-align: right;\n    }\n</style>\n<table border=\"1\" class=\"dataframe\">\n  <thead>\n    <tr style=\"text-align: right;\">\n      <th></th>\n      <th>number of outlets</th>\n      <th>total sales</th>\n    </tr>\n    <tr>\n      <th>number of times purchased</th>\n      <th></th>\n      <th></th>\n    </tr>\n  </thead>\n  <tbody>\n    <tr>\n      <th>1</th>\n      <td>912</td>\n      <td>582795.8802</td>\n    </tr>\n    <tr>\n      <th>2</th>\n      <td>421</td>\n      <td>480188.1174</td>\n    </tr>\n    <tr>\n      <th>3</th>\n      <td>30</td>\n      <td>44579.4052</td>\n    </tr>\n    <tr>\n      <th>4</th>\n      <td>6</td>\n      <td>10818.0712</td>\n    </tr>\n  </tbody>\n</table>\n</div>"
     },
     "metadata": {},
     "execution_count": 116
    }
   ],
   "source": [
    "f_count = outlet_count.groupby(['number of times purchased']).count()\n",
    "f_count.columns = ['number of outlets']\n",
    "f_count['total sales'] = outlet_count.groupby(['number of times purchased']).sum()\n",
    "f_count"
   ]
  },
  {
   "cell_type": "code",
   "execution_count": 118,
   "metadata": {},
   "outputs": [
    {
     "output_type": "execute_result",
     "data": {
      "text/plain": [
       "0.3214593013250731"
      ]
     },
     "metadata": {},
     "execution_count": 118
    }
   ],
   "source": [
    "# frequncy of purchase of brand2\n",
    "fp = len(brand6)/t_outlet\n",
    "fp"
   ]
  },
  {
   "cell_type": "code",
   "execution_count": 119,
   "metadata": {},
   "outputs": [
    {
     "output_type": "execute_result",
     "data": {
      "text/plain": [
       "1118381.474"
      ]
     },
     "metadata": {},
     "execution_count": 119
    }
   ],
   "source": [
    "#total number of sales value\n",
    "brand6['Sales Value'].sum()"
   ]
  },
  {
   "source": [
    "Brand 7"
   ],
   "cell_type": "markdown",
   "metadata": {}
  },
  {
   "cell_type": "code",
   "execution_count": 129,
   "metadata": {},
   "outputs": [
    {
     "output_type": "execute_result",
     "data": {
      "text/plain": [
       "          Outlet ID Brand Name  Sales Value       DATE\n",
       "74        Outlet 19    Brand 7     814.7004 2018-04-03\n",
       "84        Outlet 20    Brand 7     438.6500 2018-04-17\n",
       "85        Outlet 20    Brand 7     814.7004 2018-04-17\n",
       "87        Outlet 21    Brand 7     362.0136 2018-04-24\n",
       "94        Outlet 23    Brand 7     227.4188 2018-04-03\n",
       "...             ...        ...          ...        ...\n",
       "25353  Outlet 23519    Brand 7     227.4188 2018-04-09\n",
       "25386  Outlet 23532    Brand 7     988.0662 2018-04-28\n",
       "25432  Outlet 23547    Brand 7     219.3250 2018-04-13\n",
       "25433  Outlet 23547    Brand 7     329.3554 2018-04-13\n",
       "25447  Outlet 23551    Brand 7     724.0272 2018-04-19\n",
       "\n",
       "[3301 rows x 4 columns]"
      ],
      "text/html": "<div>\n<style scoped>\n    .dataframe tbody tr th:only-of-type {\n        vertical-align: middle;\n    }\n\n    .dataframe tbody tr th {\n        vertical-align: top;\n    }\n\n    .dataframe thead th {\n        text-align: right;\n    }\n</style>\n<table border=\"1\" class=\"dataframe\">\n  <thead>\n    <tr style=\"text-align: right;\">\n      <th></th>\n      <th>Outlet ID</th>\n      <th>Brand Name</th>\n      <th>Sales Value</th>\n      <th>DATE</th>\n    </tr>\n  </thead>\n  <tbody>\n    <tr>\n      <th>74</th>\n      <td>Outlet 19</td>\n      <td>Brand 7</td>\n      <td>814.7004</td>\n      <td>2018-04-03</td>\n    </tr>\n    <tr>\n      <th>84</th>\n      <td>Outlet 20</td>\n      <td>Brand 7</td>\n      <td>438.6500</td>\n      <td>2018-04-17</td>\n    </tr>\n    <tr>\n      <th>85</th>\n      <td>Outlet 20</td>\n      <td>Brand 7</td>\n      <td>814.7004</td>\n      <td>2018-04-17</td>\n    </tr>\n    <tr>\n      <th>87</th>\n      <td>Outlet 21</td>\n      <td>Brand 7</td>\n      <td>362.0136</td>\n      <td>2018-04-24</td>\n    </tr>\n    <tr>\n      <th>94</th>\n      <td>Outlet 23</td>\n      <td>Brand 7</td>\n      <td>227.4188</td>\n      <td>2018-04-03</td>\n    </tr>\n    <tr>\n      <th>...</th>\n      <td>...</td>\n      <td>...</td>\n      <td>...</td>\n      <td>...</td>\n    </tr>\n    <tr>\n      <th>25353</th>\n      <td>Outlet 23519</td>\n      <td>Brand 7</td>\n      <td>227.4188</td>\n      <td>2018-04-09</td>\n    </tr>\n    <tr>\n      <th>25386</th>\n      <td>Outlet 23532</td>\n      <td>Brand 7</td>\n      <td>988.0662</td>\n      <td>2018-04-28</td>\n    </tr>\n    <tr>\n      <th>25432</th>\n      <td>Outlet 23547</td>\n      <td>Brand 7</td>\n      <td>219.3250</td>\n      <td>2018-04-13</td>\n    </tr>\n    <tr>\n      <th>25433</th>\n      <td>Outlet 23547</td>\n      <td>Brand 7</td>\n      <td>329.3554</td>\n      <td>2018-04-13</td>\n    </tr>\n    <tr>\n      <th>25447</th>\n      <td>Outlet 23551</td>\n      <td>Brand 7</td>\n      <td>724.0272</td>\n      <td>2018-04-19</td>\n    </tr>\n  </tbody>\n</table>\n<p>3301 rows × 4 columns</p>\n</div>"
     },
     "metadata": {},
     "execution_count": 129
    }
   ],
   "source": [
    "brand7 = data[data['Brand Name']=='Brand 7']\n",
    "brand7"
   ]
  },
  {
   "cell_type": "code",
   "execution_count": 130,
   "metadata": {},
   "outputs": [
    {
     "output_type": "execute_result",
     "data": {
      "text/plain": [
       "             number of times purchased  total sales\n",
       "Outlet ID                                          \n",
       "Outlet 1000                          1    1086.0408\n",
       "Outlet 1001                          2    1332.1376\n",
       "Outlet 1002                          1     909.6752\n",
       "Outlet 1003                          2    1633.7024\n",
       "Outlet 1004                          1     909.6752\n",
       "...                                ...          ...\n",
       "Outlet 995                           2    1406.2836\n",
       "Outlet 996                           3    1271.6888\n",
       "Outlet 997                           3    2528.9446\n",
       "Outlet 998                           2    1382.7380\n",
       "Outlet 999                           2    2325.3544\n",
       "\n",
       "[1981 rows x 2 columns]"
      ],
      "text/html": "<div>\n<style scoped>\n    .dataframe tbody tr th:only-of-type {\n        vertical-align: middle;\n    }\n\n    .dataframe tbody tr th {\n        vertical-align: top;\n    }\n\n    .dataframe thead th {\n        text-align: right;\n    }\n</style>\n<table border=\"1\" class=\"dataframe\">\n  <thead>\n    <tr style=\"text-align: right;\">\n      <th></th>\n      <th>number of times purchased</th>\n      <th>total sales</th>\n    </tr>\n    <tr>\n      <th>Outlet ID</th>\n      <th></th>\n      <th></th>\n    </tr>\n  </thead>\n  <tbody>\n    <tr>\n      <th>Outlet 1000</th>\n      <td>1</td>\n      <td>1086.0408</td>\n    </tr>\n    <tr>\n      <th>Outlet 1001</th>\n      <td>2</td>\n      <td>1332.1376</td>\n    </tr>\n    <tr>\n      <th>Outlet 1002</th>\n      <td>1</td>\n      <td>909.6752</td>\n    </tr>\n    <tr>\n      <th>Outlet 1003</th>\n      <td>2</td>\n      <td>1633.7024</td>\n    </tr>\n    <tr>\n      <th>Outlet 1004</th>\n      <td>1</td>\n      <td>909.6752</td>\n    </tr>\n    <tr>\n      <th>...</th>\n      <td>...</td>\n      <td>...</td>\n    </tr>\n    <tr>\n      <th>Outlet 995</th>\n      <td>2</td>\n      <td>1406.2836</td>\n    </tr>\n    <tr>\n      <th>Outlet 996</th>\n      <td>3</td>\n      <td>1271.6888</td>\n    </tr>\n    <tr>\n      <th>Outlet 997</th>\n      <td>3</td>\n      <td>2528.9446</td>\n    </tr>\n    <tr>\n      <th>Outlet 998</th>\n      <td>2</td>\n      <td>1382.7380</td>\n    </tr>\n    <tr>\n      <th>Outlet 999</th>\n      <td>2</td>\n      <td>2325.3544</td>\n    </tr>\n  </tbody>\n</table>\n<p>1981 rows × 2 columns</p>\n</div>"
     },
     "metadata": {},
     "execution_count": 130
    }
   ],
   "source": [
    "# finding the outlets purchased for different number of times\n",
    "outlet_count = brand7.groupby(['Outlet ID']).count()\n",
    "outlet_count.drop(columns=['Sales Value','DATE'],inplace=True)\n",
    "outlet_count.columns = ['number of times purchased']\n",
    "outlet_count['total sales'] = brand7.groupby(['Outlet ID']).sum()\n",
    "outlet_count"
   ]
  },
  {
   "cell_type": "code",
   "execution_count": 131,
   "metadata": {},
   "outputs": [
    {
     "output_type": "execute_result",
     "data": {
      "text/plain": [
       "                           number of outlets  total sales\n",
       "number of times purchased                                \n",
       "1                                       1078  857363.7820\n",
       "2                                        615  957120.1500\n",
       "3                                        187  438362.3588\n",
       "4                                         82  239555.4814\n",
       "5                                         11   42544.3522\n",
       "6                                          7   38073.6880\n",
       "7                                          1    4225.8692"
      ],
      "text/html": "<div>\n<style scoped>\n    .dataframe tbody tr th:only-of-type {\n        vertical-align: middle;\n    }\n\n    .dataframe tbody tr th {\n        vertical-align: top;\n    }\n\n    .dataframe thead th {\n        text-align: right;\n    }\n</style>\n<table border=\"1\" class=\"dataframe\">\n  <thead>\n    <tr style=\"text-align: right;\">\n      <th></th>\n      <th>number of outlets</th>\n      <th>total sales</th>\n    </tr>\n    <tr>\n      <th>number of times purchased</th>\n      <th></th>\n      <th></th>\n    </tr>\n  </thead>\n  <tbody>\n    <tr>\n      <th>1</th>\n      <td>1078</td>\n      <td>857363.7820</td>\n    </tr>\n    <tr>\n      <th>2</th>\n      <td>615</td>\n      <td>957120.1500</td>\n    </tr>\n    <tr>\n      <th>3</th>\n      <td>187</td>\n      <td>438362.3588</td>\n    </tr>\n    <tr>\n      <th>4</th>\n      <td>82</td>\n      <td>239555.4814</td>\n    </tr>\n    <tr>\n      <th>5</th>\n      <td>11</td>\n      <td>42544.3522</td>\n    </tr>\n    <tr>\n      <th>6</th>\n      <td>7</td>\n      <td>38073.6880</td>\n    </tr>\n    <tr>\n      <th>7</th>\n      <td>1</td>\n      <td>4225.8692</td>\n    </tr>\n  </tbody>\n</table>\n</div>"
     },
     "metadata": {},
     "execution_count": 131
    }
   ],
   "source": [
    "f_count = outlet_count.groupby(['number of times purchased']).count()\n",
    "f_count.columns = ['number of outlets']\n",
    "f_count['total sales'] = outlet_count.groupby(['number of times purchased']).sum()\n",
    "f_count"
   ]
  },
  {
   "cell_type": "code",
   "execution_count": 132,
   "metadata": {},
   "outputs": [
    {
     "output_type": "execute_result",
     "data": {
      "text/plain": [
       "0.5680605747719841"
      ]
     },
     "metadata": {},
     "execution_count": 132
    }
   ],
   "source": [
    "# frequncy of purchase of brand2\n",
    "fp = len(brand7)/t_outlet\n",
    "fp"
   ]
  },
  {
   "cell_type": "code",
   "execution_count": 133,
   "metadata": {},
   "outputs": [
    {
     "output_type": "execute_result",
     "data": {
      "text/plain": [
       "2577245.6816"
      ]
     },
     "metadata": {},
     "execution_count": 133
    }
   ],
   "source": [
    "#total number of sales value\n",
    "brand7['Sales Value'].sum()"
   ]
  },
  {
   "source": [
    "Brand 8"
   ],
   "cell_type": "markdown",
   "metadata": {}
  },
  {
   "cell_type": "code",
   "execution_count": 134,
   "metadata": {},
   "outputs": [
    {
     "output_type": "execute_result",
     "data": {
      "text/plain": [
       "          Outlet ID Brand Name  Sales Value       DATE\n",
       "78        Outlet 19    Brand 8     2689.632 2018-04-03\n",
       "79        Outlet 19    Brand 8     2689.632 2018-04-17\n",
       "96        Outlet 23    Brand 8      448.272 2018-04-03\n",
       "108       Outlet 25    Brand 8      448.272 2018-04-03\n",
       "126       Outlet 29    Brand 8     2689.632 2018-04-17\n",
       "...             ...        ...          ...        ...\n",
       "25223  Outlet 23487    Brand 8     1344.816 2018-04-18\n",
       "25270  Outlet 23497    Brand 8     2689.632 2018-04-17\n",
       "25319  Outlet 23512    Brand 8     5379.264 2018-04-07\n",
       "25325  Outlet 23513    Brand 8     5379.264 2018-04-21\n",
       "25335  Outlet 23514    Brand 8     2689.632 2018-04-21\n",
       "\n",
       "[1122 rows x 4 columns]"
      ],
      "text/html": "<div>\n<style scoped>\n    .dataframe tbody tr th:only-of-type {\n        vertical-align: middle;\n    }\n\n    .dataframe tbody tr th {\n        vertical-align: top;\n    }\n\n    .dataframe thead th {\n        text-align: right;\n    }\n</style>\n<table border=\"1\" class=\"dataframe\">\n  <thead>\n    <tr style=\"text-align: right;\">\n      <th></th>\n      <th>Outlet ID</th>\n      <th>Brand Name</th>\n      <th>Sales Value</th>\n      <th>DATE</th>\n    </tr>\n  </thead>\n  <tbody>\n    <tr>\n      <th>78</th>\n      <td>Outlet 19</td>\n      <td>Brand 8</td>\n      <td>2689.632</td>\n      <td>2018-04-03</td>\n    </tr>\n    <tr>\n      <th>79</th>\n      <td>Outlet 19</td>\n      <td>Brand 8</td>\n      <td>2689.632</td>\n      <td>2018-04-17</td>\n    </tr>\n    <tr>\n      <th>96</th>\n      <td>Outlet 23</td>\n      <td>Brand 8</td>\n      <td>448.272</td>\n      <td>2018-04-03</td>\n    </tr>\n    <tr>\n      <th>108</th>\n      <td>Outlet 25</td>\n      <td>Brand 8</td>\n      <td>448.272</td>\n      <td>2018-04-03</td>\n    </tr>\n    <tr>\n      <th>126</th>\n      <td>Outlet 29</td>\n      <td>Brand 8</td>\n      <td>2689.632</td>\n      <td>2018-04-17</td>\n    </tr>\n    <tr>\n      <th>...</th>\n      <td>...</td>\n      <td>...</td>\n      <td>...</td>\n      <td>...</td>\n    </tr>\n    <tr>\n      <th>25223</th>\n      <td>Outlet 23487</td>\n      <td>Brand 8</td>\n      <td>1344.816</td>\n      <td>2018-04-18</td>\n    </tr>\n    <tr>\n      <th>25270</th>\n      <td>Outlet 23497</td>\n      <td>Brand 8</td>\n      <td>2689.632</td>\n      <td>2018-04-17</td>\n    </tr>\n    <tr>\n      <th>25319</th>\n      <td>Outlet 23512</td>\n      <td>Brand 8</td>\n      <td>5379.264</td>\n      <td>2018-04-07</td>\n    </tr>\n    <tr>\n      <th>25325</th>\n      <td>Outlet 23513</td>\n      <td>Brand 8</td>\n      <td>5379.264</td>\n      <td>2018-04-21</td>\n    </tr>\n    <tr>\n      <th>25335</th>\n      <td>Outlet 23514</td>\n      <td>Brand 8</td>\n      <td>2689.632</td>\n      <td>2018-04-21</td>\n    </tr>\n  </tbody>\n</table>\n<p>1122 rows × 4 columns</p>\n</div>"
     },
     "metadata": {},
     "execution_count": 134
    }
   ],
   "source": [
    "brand8 = data[data['Brand Name']=='Brand 8']\n",
    "brand8"
   ]
  },
  {
   "cell_type": "code",
   "execution_count": 135,
   "metadata": {},
   "outputs": [
    {
     "output_type": "execute_result",
     "data": {
      "text/plain": [
       "             number of times purchased  total sales\n",
       "Outlet ID                                          \n",
       "Outlet 1002                          1     2689.632\n",
       "Outlet 1003                          1     2689.632\n",
       "Outlet 1023                          1     2689.632\n",
       "Outlet 1025                          1     2689.632\n",
       "Outlet 1026                          1      896.544\n",
       "...                                ...          ...\n",
       "Outlet 94                            1     1793.088\n",
       "Outlet 962                           1     5379.264\n",
       "Outlet 98                            1     2689.632\n",
       "Outlet 991                           1     2241.360\n",
       "Outlet 996                           1     1344.816\n",
       "\n",
       "[1012 rows x 2 columns]"
      ],
      "text/html": "<div>\n<style scoped>\n    .dataframe tbody tr th:only-of-type {\n        vertical-align: middle;\n    }\n\n    .dataframe tbody tr th {\n        vertical-align: top;\n    }\n\n    .dataframe thead th {\n        text-align: right;\n    }\n</style>\n<table border=\"1\" class=\"dataframe\">\n  <thead>\n    <tr style=\"text-align: right;\">\n      <th></th>\n      <th>number of times purchased</th>\n      <th>total sales</th>\n    </tr>\n    <tr>\n      <th>Outlet ID</th>\n      <th></th>\n      <th></th>\n    </tr>\n  </thead>\n  <tbody>\n    <tr>\n      <th>Outlet 1002</th>\n      <td>1</td>\n      <td>2689.632</td>\n    </tr>\n    <tr>\n      <th>Outlet 1003</th>\n      <td>1</td>\n      <td>2689.632</td>\n    </tr>\n    <tr>\n      <th>Outlet 1023</th>\n      <td>1</td>\n      <td>2689.632</td>\n    </tr>\n    <tr>\n      <th>Outlet 1025</th>\n      <td>1</td>\n      <td>2689.632</td>\n    </tr>\n    <tr>\n      <th>Outlet 1026</th>\n      <td>1</td>\n      <td>896.544</td>\n    </tr>\n    <tr>\n      <th>...</th>\n      <td>...</td>\n      <td>...</td>\n    </tr>\n    <tr>\n      <th>Outlet 94</th>\n      <td>1</td>\n      <td>1793.088</td>\n    </tr>\n    <tr>\n      <th>Outlet 962</th>\n      <td>1</td>\n      <td>5379.264</td>\n    </tr>\n    <tr>\n      <th>Outlet 98</th>\n      <td>1</td>\n      <td>2689.632</td>\n    </tr>\n    <tr>\n      <th>Outlet 991</th>\n      <td>1</td>\n      <td>2241.360</td>\n    </tr>\n    <tr>\n      <th>Outlet 996</th>\n      <td>1</td>\n      <td>1344.816</td>\n    </tr>\n  </tbody>\n</table>\n<p>1012 rows × 2 columns</p>\n</div>"
     },
     "metadata": {},
     "execution_count": 135
    }
   ],
   "source": [
    "# finding the outlets purchased for different number of times\n",
    "outlet_count = brand8.groupby(['Outlet ID']).count()\n",
    "outlet_count.drop(columns=['Sales Value','DATE'],inplace=True)\n",
    "outlet_count.columns = ['number of times purchased']\n",
    "outlet_count['total sales'] = brand8.groupby(['Outlet ID']).sum()\n",
    "outlet_count"
   ]
  },
  {
   "cell_type": "code",
   "execution_count": 136,
   "metadata": {},
   "outputs": [
    {
     "output_type": "execute_result",
     "data": {
      "text/plain": [
       "                           number of outlets   total sales\n",
       "number of times purchased                                 \n",
       "1                                        907  2.170102e+06\n",
       "2                                        100  4.450496e+05\n",
       "3                                          5  4.213757e+04"
      ],
      "text/html": "<div>\n<style scoped>\n    .dataframe tbody tr th:only-of-type {\n        vertical-align: middle;\n    }\n\n    .dataframe tbody tr th {\n        vertical-align: top;\n    }\n\n    .dataframe thead th {\n        text-align: right;\n    }\n</style>\n<table border=\"1\" class=\"dataframe\">\n  <thead>\n    <tr style=\"text-align: right;\">\n      <th></th>\n      <th>number of outlets</th>\n      <th>total sales</th>\n    </tr>\n    <tr>\n      <th>number of times purchased</th>\n      <th></th>\n      <th></th>\n    </tr>\n  </thead>\n  <tbody>\n    <tr>\n      <th>1</th>\n      <td>907</td>\n      <td>2.170102e+06</td>\n    </tr>\n    <tr>\n      <th>2</th>\n      <td>100</td>\n      <td>4.450496e+05</td>\n    </tr>\n    <tr>\n      <th>3</th>\n      <td>5</td>\n      <td>4.213757e+04</td>\n    </tr>\n  </tbody>\n</table>\n</div>"
     },
     "metadata": {},
     "execution_count": 136
    }
   ],
   "source": [
    "f_count = outlet_count.groupby(['number of times purchased']).count()\n",
    "f_count.columns = ['number of outlets']\n",
    "f_count['total sales'] = outlet_count.groupby(['number of times purchased']).sum()\n",
    "f_count"
   ]
  },
  {
   "cell_type": "code",
   "execution_count": 137,
   "metadata": {},
   "outputs": [
    {
     "output_type": "execute_result",
     "data": {
      "text/plain": [
       "0.19308208569953536"
      ]
     },
     "metadata": {},
     "execution_count": 137
    }
   ],
   "source": [
    "# frequncy of purchase of brand2\n",
    "fp = len(brand8)/t_outlet\n",
    "fp"
   ]
  },
  {
   "cell_type": "code",
   "execution_count": 138,
   "metadata": {},
   "outputs": [
    {
     "output_type": "execute_result",
     "data": {
      "text/plain": [
       "2657289.6846000003"
      ]
     },
     "metadata": {},
     "execution_count": 138
    }
   ],
   "source": [
    "#total number of sales value\n",
    "brand8['Sales Value'].sum()"
   ]
  },
  {
   "source": [
    "Brand 9"
   ],
   "cell_type": "markdown",
   "metadata": {}
  },
  {
   "cell_type": "code",
   "execution_count": 139,
   "metadata": {},
   "outputs": [
    {
     "output_type": "execute_result",
     "data": {
      "text/plain": [
       "          Outlet ID Brand Name  Sales Value       DATE\n",
       "88        Outlet 21    Brand 9     179.3088 2018-04-24\n",
       "89        Outlet 21    Brand 9     631.9956 2018-04-24\n",
       "92        Outlet 22    Brand 9     179.3088 2018-04-10\n",
       "93        Outlet 22    Brand 9     462.0824 2018-04-10\n",
       "99        Outlet 23    Brand 9     924.1648 2018-04-24\n",
       "...             ...        ...          ...        ...\n",
       "25346  Outlet 23515    Brand 9    2949.3128 2018-04-25\n",
       "25358  Outlet 23520    Brand 9    2106.6520 2018-04-30\n",
       "25388  Outlet 23532    Brand 9    3581.3084 2018-04-28\n",
       "25392  Outlet 23533    Brand 9    1263.9912 2018-04-11\n",
       "25435  Outlet 23547    Brand 9    1895.9868 2018-04-13\n",
       "\n",
       "[5113 rows x 4 columns]"
      ],
      "text/html": "<div>\n<style scoped>\n    .dataframe tbody tr th:only-of-type {\n        vertical-align: middle;\n    }\n\n    .dataframe tbody tr th {\n        vertical-align: top;\n    }\n\n    .dataframe thead th {\n        text-align: right;\n    }\n</style>\n<table border=\"1\" class=\"dataframe\">\n  <thead>\n    <tr style=\"text-align: right;\">\n      <th></th>\n      <th>Outlet ID</th>\n      <th>Brand Name</th>\n      <th>Sales Value</th>\n      <th>DATE</th>\n    </tr>\n  </thead>\n  <tbody>\n    <tr>\n      <th>88</th>\n      <td>Outlet 21</td>\n      <td>Brand 9</td>\n      <td>179.3088</td>\n      <td>2018-04-24</td>\n    </tr>\n    <tr>\n      <th>89</th>\n      <td>Outlet 21</td>\n      <td>Brand 9</td>\n      <td>631.9956</td>\n      <td>2018-04-24</td>\n    </tr>\n    <tr>\n      <th>92</th>\n      <td>Outlet 22</td>\n      <td>Brand 9</td>\n      <td>179.3088</td>\n      <td>2018-04-10</td>\n    </tr>\n    <tr>\n      <th>93</th>\n      <td>Outlet 22</td>\n      <td>Brand 9</td>\n      <td>462.0824</td>\n      <td>2018-04-10</td>\n    </tr>\n    <tr>\n      <th>99</th>\n      <td>Outlet 23</td>\n      <td>Brand 9</td>\n      <td>924.1648</td>\n      <td>2018-04-24</td>\n    </tr>\n    <tr>\n      <th>...</th>\n      <td>...</td>\n      <td>...</td>\n      <td>...</td>\n      <td>...</td>\n    </tr>\n    <tr>\n      <th>25346</th>\n      <td>Outlet 23515</td>\n      <td>Brand 9</td>\n      <td>2949.3128</td>\n      <td>2018-04-25</td>\n    </tr>\n    <tr>\n      <th>25358</th>\n      <td>Outlet 23520</td>\n      <td>Brand 9</td>\n      <td>2106.6520</td>\n      <td>2018-04-30</td>\n    </tr>\n    <tr>\n      <th>25388</th>\n      <td>Outlet 23532</td>\n      <td>Brand 9</td>\n      <td>3581.3084</td>\n      <td>2018-04-28</td>\n    </tr>\n    <tr>\n      <th>25392</th>\n      <td>Outlet 23533</td>\n      <td>Brand 9</td>\n      <td>1263.9912</td>\n      <td>2018-04-11</td>\n    </tr>\n    <tr>\n      <th>25435</th>\n      <td>Outlet 23547</td>\n      <td>Brand 9</td>\n      <td>1895.9868</td>\n      <td>2018-04-13</td>\n    </tr>\n  </tbody>\n</table>\n<p>5113 rows × 4 columns</p>\n</div>"
     },
     "metadata": {},
     "execution_count": 139
    }
   ],
   "source": [
    "brand9 = data[data['Brand Name']=='Brand 9']\n",
    "brand9"
   ]
  },
  {
   "cell_type": "code",
   "execution_count": 140,
   "metadata": {},
   "outputs": [
    {
     "output_type": "execute_result",
     "data": {
      "text/plain": [
       "             number of times purchased  total sales\n",
       "Outlet ID                                          \n",
       "Outlet 100                           1    2527.9824\n",
       "Outlet 1000                          4    3322.9860\n",
       "Outlet 1001                          2    1094.0780\n",
       "Outlet 101                           1    2527.9824\n",
       "Outlet 102                           2     811.3044\n",
       "...                                ...          ...\n",
       "Outlet 992                           4    5069.4356\n",
       "Outlet 994                           1    1053.3260\n",
       "Outlet 996                           2    1596.9124\n",
       "Outlet 997                           2    2188.1560\n",
       "Outlet 999                           4    4607.3532\n",
       "\n",
       "[3049 rows x 2 columns]"
      ],
      "text/html": "<div>\n<style scoped>\n    .dataframe tbody tr th:only-of-type {\n        vertical-align: middle;\n    }\n\n    .dataframe tbody tr th {\n        vertical-align: top;\n    }\n\n    .dataframe thead th {\n        text-align: right;\n    }\n</style>\n<table border=\"1\" class=\"dataframe\">\n  <thead>\n    <tr style=\"text-align: right;\">\n      <th></th>\n      <th>number of times purchased</th>\n      <th>total sales</th>\n    </tr>\n    <tr>\n      <th>Outlet ID</th>\n      <th></th>\n      <th></th>\n    </tr>\n  </thead>\n  <tbody>\n    <tr>\n      <th>Outlet 100</th>\n      <td>1</td>\n      <td>2527.9824</td>\n    </tr>\n    <tr>\n      <th>Outlet 1000</th>\n      <td>4</td>\n      <td>3322.9860</td>\n    </tr>\n    <tr>\n      <th>Outlet 1001</th>\n      <td>2</td>\n      <td>1094.0780</td>\n    </tr>\n    <tr>\n      <th>Outlet 101</th>\n      <td>1</td>\n      <td>2527.9824</td>\n    </tr>\n    <tr>\n      <th>Outlet 102</th>\n      <td>2</td>\n      <td>811.3044</td>\n    </tr>\n    <tr>\n      <th>...</th>\n      <td>...</td>\n      <td>...</td>\n    </tr>\n    <tr>\n      <th>Outlet 992</th>\n      <td>4</td>\n      <td>5069.4356</td>\n    </tr>\n    <tr>\n      <th>Outlet 994</th>\n      <td>1</td>\n      <td>1053.3260</td>\n    </tr>\n    <tr>\n      <th>Outlet 996</th>\n      <td>2</td>\n      <td>1596.9124</td>\n    </tr>\n    <tr>\n      <th>Outlet 997</th>\n      <td>2</td>\n      <td>2188.1560</td>\n    </tr>\n    <tr>\n      <th>Outlet 999</th>\n      <td>4</td>\n      <td>4607.3532</td>\n    </tr>\n  </tbody>\n</table>\n<p>3049 rows × 2 columns</p>\n</div>"
     },
     "metadata": {},
     "execution_count": 140
    }
   ],
   "source": [
    "# finding the outlets purchased for different number of times\n",
    "outlet_count = brand9.groupby(['Outlet ID']).count()\n",
    "outlet_count.drop(columns=['Sales Value','DATE'],inplace=True)\n",
    "outlet_count.columns = ['number of times purchased']\n",
    "outlet_count['total sales'] = brand9.groupby(['Outlet ID']).sum()\n",
    "outlet_count"
   ]
  },
  {
   "cell_type": "code",
   "execution_count": 141,
   "metadata": {},
   "outputs": [
    {
     "output_type": "execute_result",
     "data": {
      "text/plain": [
       "                           number of outlets   total sales\n",
       "number of times purchased                                 \n",
       "1                                       1666  2.573965e+06\n",
       "2                                        948  2.804138e+06\n",
       "3                                        270  1.100688e+06\n",
       "4                                        116  5.001336e+05\n",
       "5                                         28  1.678628e+05\n",
       "6                                         15  9.802645e+04\n",
       "7                                          2  1.763226e+04\n",
       "8                                          3  2.589982e+04\n",
       "9                                          1  6.843393e+03"
      ],
      "text/html": "<div>\n<style scoped>\n    .dataframe tbody tr th:only-of-type {\n        vertical-align: middle;\n    }\n\n    .dataframe tbody tr th {\n        vertical-align: top;\n    }\n\n    .dataframe thead th {\n        text-align: right;\n    }\n</style>\n<table border=\"1\" class=\"dataframe\">\n  <thead>\n    <tr style=\"text-align: right;\">\n      <th></th>\n      <th>number of outlets</th>\n      <th>total sales</th>\n    </tr>\n    <tr>\n      <th>number of times purchased</th>\n      <th></th>\n      <th></th>\n    </tr>\n  </thead>\n  <tbody>\n    <tr>\n      <th>1</th>\n      <td>1666</td>\n      <td>2.573965e+06</td>\n    </tr>\n    <tr>\n      <th>2</th>\n      <td>948</td>\n      <td>2.804138e+06</td>\n    </tr>\n    <tr>\n      <th>3</th>\n      <td>270</td>\n      <td>1.100688e+06</td>\n    </tr>\n    <tr>\n      <th>4</th>\n      <td>116</td>\n      <td>5.001336e+05</td>\n    </tr>\n    <tr>\n      <th>5</th>\n      <td>28</td>\n      <td>1.678628e+05</td>\n    </tr>\n    <tr>\n      <th>6</th>\n      <td>15</td>\n      <td>9.802645e+04</td>\n    </tr>\n    <tr>\n      <th>7</th>\n      <td>2</td>\n      <td>1.763226e+04</td>\n    </tr>\n    <tr>\n      <th>8</th>\n      <td>3</td>\n      <td>2.589982e+04</td>\n    </tr>\n    <tr>\n      <th>9</th>\n      <td>1</td>\n      <td>6.843393e+03</td>\n    </tr>\n  </tbody>\n</table>\n</div>"
     },
     "metadata": {},
     "execution_count": 141
    }
   ],
   "source": [
    "f_count = outlet_count.groupby(['number of times purchased']).count()\n",
    "f_count.columns = ['number of outlets']\n",
    "f_count['total sales'] = outlet_count.groupby(['number of times purchased']).sum()\n",
    "f_count"
   ]
  },
  {
   "cell_type": "code",
   "execution_count": 142,
   "metadata": {},
   "outputs": [
    {
     "output_type": "execute_result",
     "data": {
      "text/plain": [
       "0.8798829805541215"
      ]
     },
     "metadata": {},
     "execution_count": 142
    }
   ],
   "source": [
    "# frequncy of purchase of brand2\n",
    "fp = len(brand9)/t_outlet\n",
    "fp"
   ]
  },
  {
   "cell_type": "code",
   "execution_count": 143,
   "metadata": {},
   "outputs": [
    {
     "output_type": "execute_result",
     "data": {
      "text/plain": [
       "7295188.8292"
      ]
     },
     "metadata": {},
     "execution_count": 143
    }
   ],
   "source": [
    "#total number of sales value\n",
    "brand9['Sales Value'].sum()"
   ]
  },
  {
   "source": [
    "Brand 10"
   ],
   "cell_type": "markdown",
   "metadata": {}
  },
  {
   "cell_type": "code",
   "execution_count": 144,
   "metadata": {},
   "outputs": [
    {
     "output_type": "execute_result",
     "data": {
      "text/plain": [
       "          Outlet ID Brand Name  Sales Value       DATE\n",
       "98        Outlet 23   Brand 10    4340.0880 2018-04-24\n",
       "103       Outlet 24   Brand 10    1446.6960 2018-04-10\n",
       "114       Outlet 26   Brand 10    1446.6960 2018-04-10\n",
       "123       Outlet 28   Brand 10    1446.6960 2018-04-24\n",
       "147       Outlet 35   Brand 10     289.3392 2018-04-10\n",
       "...             ...        ...          ...        ...\n",
       "25357  Outlet 23520   Brand 10    1446.6960 2018-04-30\n",
       "25387  Outlet 23532   Brand 10    2893.3920 2018-04-28\n",
       "25391  Outlet 23533   Brand 10    1446.6960 2018-04-11\n",
       "25434  Outlet 23547   Brand 10    1446.6960 2018-04-13\n",
       "25445  Outlet 23550   Brand 10     482.2320 2018-04-17\n",
       "\n",
       "[2863 rows x 4 columns]"
      ],
      "text/html": "<div>\n<style scoped>\n    .dataframe tbody tr th:only-of-type {\n        vertical-align: middle;\n    }\n\n    .dataframe tbody tr th {\n        vertical-align: top;\n    }\n\n    .dataframe thead th {\n        text-align: right;\n    }\n</style>\n<table border=\"1\" class=\"dataframe\">\n  <thead>\n    <tr style=\"text-align: right;\">\n      <th></th>\n      <th>Outlet ID</th>\n      <th>Brand Name</th>\n      <th>Sales Value</th>\n      <th>DATE</th>\n    </tr>\n  </thead>\n  <tbody>\n    <tr>\n      <th>98</th>\n      <td>Outlet 23</td>\n      <td>Brand 10</td>\n      <td>4340.0880</td>\n      <td>2018-04-24</td>\n    </tr>\n    <tr>\n      <th>103</th>\n      <td>Outlet 24</td>\n      <td>Brand 10</td>\n      <td>1446.6960</td>\n      <td>2018-04-10</td>\n    </tr>\n    <tr>\n      <th>114</th>\n      <td>Outlet 26</td>\n      <td>Brand 10</td>\n      <td>1446.6960</td>\n      <td>2018-04-10</td>\n    </tr>\n    <tr>\n      <th>123</th>\n      <td>Outlet 28</td>\n      <td>Brand 10</td>\n      <td>1446.6960</td>\n      <td>2018-04-24</td>\n    </tr>\n    <tr>\n      <th>147</th>\n      <td>Outlet 35</td>\n      <td>Brand 10</td>\n      <td>289.3392</td>\n      <td>2018-04-10</td>\n    </tr>\n    <tr>\n      <th>...</th>\n      <td>...</td>\n      <td>...</td>\n      <td>...</td>\n      <td>...</td>\n    </tr>\n    <tr>\n      <th>25357</th>\n      <td>Outlet 23520</td>\n      <td>Brand 10</td>\n      <td>1446.6960</td>\n      <td>2018-04-30</td>\n    </tr>\n    <tr>\n      <th>25387</th>\n      <td>Outlet 23532</td>\n      <td>Brand 10</td>\n      <td>2893.3920</td>\n      <td>2018-04-28</td>\n    </tr>\n    <tr>\n      <th>25391</th>\n      <td>Outlet 23533</td>\n      <td>Brand 10</td>\n      <td>1446.6960</td>\n      <td>2018-04-11</td>\n    </tr>\n    <tr>\n      <th>25434</th>\n      <td>Outlet 23547</td>\n      <td>Brand 10</td>\n      <td>1446.6960</td>\n      <td>2018-04-13</td>\n    </tr>\n    <tr>\n      <th>25445</th>\n      <td>Outlet 23550</td>\n      <td>Brand 10</td>\n      <td>482.2320</td>\n      <td>2018-04-17</td>\n    </tr>\n  </tbody>\n</table>\n<p>2863 rows × 4 columns</p>\n</div>"
     },
     "metadata": {},
     "execution_count": 144
    }
   ],
   "source": [
    "brand10 = data[data['Brand Name']=='Brand 10']\n",
    "brand10"
   ]
  },
  {
   "cell_type": "code",
   "execution_count": 145,
   "metadata": {},
   "outputs": [
    {
     "output_type": "execute_result",
     "data": {
      "text/plain": [
       "             number of times purchased  total sales\n",
       "Outlet ID                                          \n",
       "Outlet 100                           1     4340.088\n",
       "Outlet 1000                          2     4340.088\n",
       "Outlet 1001                          1     1446.696\n",
       "Outlet 101                           1     4340.088\n",
       "Outlet 1025                          1     2893.392\n",
       "...                                ...          ...\n",
       "Outlet 992                           2     5786.784\n",
       "Outlet 994                           1     1446.696\n",
       "Outlet 996                           1     1446.696\n",
       "Outlet 997                           1     2893.392\n",
       "Outlet 999                           2     5786.784\n",
       "\n",
       "[2257 rows x 2 columns]"
      ],
      "text/html": "<div>\n<style scoped>\n    .dataframe tbody tr th:only-of-type {\n        vertical-align: middle;\n    }\n\n    .dataframe tbody tr th {\n        vertical-align: top;\n    }\n\n    .dataframe thead th {\n        text-align: right;\n    }\n</style>\n<table border=\"1\" class=\"dataframe\">\n  <thead>\n    <tr style=\"text-align: right;\">\n      <th></th>\n      <th>number of times purchased</th>\n      <th>total sales</th>\n    </tr>\n    <tr>\n      <th>Outlet ID</th>\n      <th></th>\n      <th></th>\n    </tr>\n  </thead>\n  <tbody>\n    <tr>\n      <th>Outlet 100</th>\n      <td>1</td>\n      <td>4340.088</td>\n    </tr>\n    <tr>\n      <th>Outlet 1000</th>\n      <td>2</td>\n      <td>4340.088</td>\n    </tr>\n    <tr>\n      <th>Outlet 1001</th>\n      <td>1</td>\n      <td>1446.696</td>\n    </tr>\n    <tr>\n      <th>Outlet 101</th>\n      <td>1</td>\n      <td>4340.088</td>\n    </tr>\n    <tr>\n      <th>Outlet 1025</th>\n      <td>1</td>\n      <td>2893.392</td>\n    </tr>\n    <tr>\n      <th>...</th>\n      <td>...</td>\n      <td>...</td>\n    </tr>\n    <tr>\n      <th>Outlet 992</th>\n      <td>2</td>\n      <td>5786.784</td>\n    </tr>\n    <tr>\n      <th>Outlet 994</th>\n      <td>1</td>\n      <td>1446.696</td>\n    </tr>\n    <tr>\n      <th>Outlet 996</th>\n      <td>1</td>\n      <td>1446.696</td>\n    </tr>\n    <tr>\n      <th>Outlet 997</th>\n      <td>1</td>\n      <td>2893.392</td>\n    </tr>\n    <tr>\n      <th>Outlet 999</th>\n      <td>2</td>\n      <td>5786.784</td>\n    </tr>\n  </tbody>\n</table>\n<p>2257 rows × 2 columns</p>\n</div>"
     },
     "metadata": {},
     "execution_count": 145
    }
   ],
   "source": [
    "# finding the outlets purchased for different number of times\n",
    "outlet_count = brand10.groupby(['Outlet ID']).count()\n",
    "outlet_count.drop(columns=['Sales Value','DATE'],inplace=True)\n",
    "outlet_count.columns = ['number of times purchased']\n",
    "outlet_count['total sales'] = brand10.groupby(['Outlet ID']).sum()\n",
    "outlet_count"
   ]
  },
  {
   "cell_type": "code",
   "execution_count": 146,
   "metadata": {},
   "outputs": [
    {
     "output_type": "execute_result",
     "data": {
      "text/plain": [
       "                           number of outlets   total sales\n",
       "number of times purchased                                 \n",
       "1                                       1714  2.578398e+06\n",
       "2                                        486  1.377351e+06\n",
       "3                                         51  2.077455e+05\n",
       "4                                          6  3.684252e+04"
      ],
      "text/html": "<div>\n<style scoped>\n    .dataframe tbody tr th:only-of-type {\n        vertical-align: middle;\n    }\n\n    .dataframe tbody tr th {\n        vertical-align: top;\n    }\n\n    .dataframe thead th {\n        text-align: right;\n    }\n</style>\n<table border=\"1\" class=\"dataframe\">\n  <thead>\n    <tr style=\"text-align: right;\">\n      <th></th>\n      <th>number of outlets</th>\n      <th>total sales</th>\n    </tr>\n    <tr>\n      <th>number of times purchased</th>\n      <th></th>\n      <th></th>\n    </tr>\n  </thead>\n  <tbody>\n    <tr>\n      <th>1</th>\n      <td>1714</td>\n      <td>2.578398e+06</td>\n    </tr>\n    <tr>\n      <th>2</th>\n      <td>486</td>\n      <td>1.377351e+06</td>\n    </tr>\n    <tr>\n      <th>3</th>\n      <td>51</td>\n      <td>2.077455e+05</td>\n    </tr>\n    <tr>\n      <th>4</th>\n      <td>6</td>\n      <td>3.684252e+04</td>\n    </tr>\n  </tbody>\n</table>\n</div>"
     },
     "metadata": {},
     "execution_count": 146
    }
   ],
   "source": [
    "f_count = outlet_count.groupby(['number of times purchased']).count()\n",
    "f_count.columns = ['number of outlets']\n",
    "f_count['total sales'] = outlet_count.groupby(['number of times purchased']).sum()\n",
    "f_count"
   ]
  },
  {
   "cell_type": "code",
   "execution_count": 147,
   "metadata": {},
   "outputs": [
    {
     "output_type": "execute_result",
     "data": {
      "text/plain": [
       "0.49268628463259334"
      ]
     },
     "metadata": {},
     "execution_count": 147
    }
   ],
   "source": [
    "# frequncy of purchase of brand2\n",
    "fp = len(brand10)/t_outlet\n",
    "fp"
   ]
  },
  {
   "cell_type": "code",
   "execution_count": 148,
   "metadata": {},
   "outputs": [
    {
     "output_type": "execute_result",
     "data": {
      "text/plain": [
       "4200337.1663999995"
      ]
     },
     "metadata": {},
     "execution_count": 148
    }
   ],
   "source": [
    "#total number of sales value\n",
    "brand10['Sales Value'].sum()"
   ]
  },
  {
   "source": [
    "Brand 11"
   ],
   "cell_type": "markdown",
   "metadata": {}
  },
  {
   "cell_type": "code",
   "execution_count": 151,
   "metadata": {},
   "outputs": [
    {
     "output_type": "execute_result",
     "data": {
      "text/plain": [
       "         Outlet ID Brand Name  Sales Value       DATE\n",
       "11234  Outlet 2578   Brand 11       6197.7 2018-04-27"
      ],
      "text/html": "<div>\n<style scoped>\n    .dataframe tbody tr th:only-of-type {\n        vertical-align: middle;\n    }\n\n    .dataframe tbody tr th {\n        vertical-align: top;\n    }\n\n    .dataframe thead th {\n        text-align: right;\n    }\n</style>\n<table border=\"1\" class=\"dataframe\">\n  <thead>\n    <tr style=\"text-align: right;\">\n      <th></th>\n      <th>Outlet ID</th>\n      <th>Brand Name</th>\n      <th>Sales Value</th>\n      <th>DATE</th>\n    </tr>\n  </thead>\n  <tbody>\n    <tr>\n      <th>11234</th>\n      <td>Outlet 2578</td>\n      <td>Brand 11</td>\n      <td>6197.7</td>\n      <td>2018-04-27</td>\n    </tr>\n  </tbody>\n</table>\n</div>"
     },
     "metadata": {},
     "execution_count": 151
    }
   ],
   "source": [
    "brand11 = data[data['Brand Name']=='Brand 11']\n",
    "brand11"
   ]
  },
  {
   "cell_type": "code",
   "execution_count": 152,
   "metadata": {},
   "outputs": [
    {
     "output_type": "execute_result",
     "data": {
      "text/plain": [
       "             number of times purchased  total sales\n",
       "Outlet ID                                          \n",
       "Outlet 2578                          1       6197.7"
      ],
      "text/html": "<div>\n<style scoped>\n    .dataframe tbody tr th:only-of-type {\n        vertical-align: middle;\n    }\n\n    .dataframe tbody tr th {\n        vertical-align: top;\n    }\n\n    .dataframe thead th {\n        text-align: right;\n    }\n</style>\n<table border=\"1\" class=\"dataframe\">\n  <thead>\n    <tr style=\"text-align: right;\">\n      <th></th>\n      <th>number of times purchased</th>\n      <th>total sales</th>\n    </tr>\n    <tr>\n      <th>Outlet ID</th>\n      <th></th>\n      <th></th>\n    </tr>\n  </thead>\n  <tbody>\n    <tr>\n      <th>Outlet 2578</th>\n      <td>1</td>\n      <td>6197.7</td>\n    </tr>\n  </tbody>\n</table>\n</div>"
     },
     "metadata": {},
     "execution_count": 152
    }
   ],
   "source": [
    "# finding the outlets purchased for different number of times\n",
    "outlet_count = brand11.groupby(['Outlet ID']).count()\n",
    "outlet_count.drop(columns=['Sales Value','DATE'],inplace=True)\n",
    "outlet_count.columns = ['number of times purchased']\n",
    "outlet_count['total sales'] = brand11.groupby(['Outlet ID']).sum()\n",
    "outlet_count"
   ]
  },
  {
   "cell_type": "code",
   "execution_count": 153,
   "metadata": {},
   "outputs": [
    {
     "output_type": "execute_result",
     "data": {
      "text/plain": [
       "                           number of outlets  total sales\n",
       "number of times purchased                                \n",
       "1                                          1       6197.7"
      ],
      "text/html": "<div>\n<style scoped>\n    .dataframe tbody tr th:only-of-type {\n        vertical-align: middle;\n    }\n\n    .dataframe tbody tr th {\n        vertical-align: top;\n    }\n\n    .dataframe thead th {\n        text-align: right;\n    }\n</style>\n<table border=\"1\" class=\"dataframe\">\n  <thead>\n    <tr style=\"text-align: right;\">\n      <th></th>\n      <th>number of outlets</th>\n      <th>total sales</th>\n    </tr>\n    <tr>\n      <th>number of times purchased</th>\n      <th></th>\n      <th></th>\n    </tr>\n  </thead>\n  <tbody>\n    <tr>\n      <th>1</th>\n      <td>1</td>\n      <td>6197.7</td>\n    </tr>\n  </tbody>\n</table>\n</div>"
     },
     "metadata": {},
     "execution_count": 153
    }
   ],
   "source": [
    "f_count = outlet_count.groupby(['number of times purchased']).count()\n",
    "f_count.columns = ['number of outlets']\n",
    "f_count['total sales'] = outlet_count.groupby(['number of times purchased']).sum()\n",
    "f_count"
   ]
  },
  {
   "cell_type": "code",
   "execution_count": 154,
   "metadata": {},
   "outputs": [
    {
     "output_type": "execute_result",
     "data": {
      "text/plain": [
       "0.00017208742040956807"
      ]
     },
     "metadata": {},
     "execution_count": 154
    }
   ],
   "source": [
    "# frequncy of purchase of brand2\n",
    "fp = len(brand11)/t_outlet\n",
    "fp"
   ]
  },
  {
   "cell_type": "code",
   "execution_count": 155,
   "metadata": {},
   "outputs": [
    {
     "output_type": "execute_result",
     "data": {
      "text/plain": [
       "6197.7"
      ]
     },
     "metadata": {},
     "execution_count": 155
    }
   ],
   "source": [
    "#total number of sales value\n",
    "brand11['Sales Value'].sum()"
   ]
  }
 ]
}