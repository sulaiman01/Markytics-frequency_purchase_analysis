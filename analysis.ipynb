{
 "metadata": {
  "language_info": {
   "codemirror_mode": {
    "name": "ipython",
    "version": 3
   },
   "file_extension": ".py",
   "mimetype": "text/x-python",
   "name": "python",
   "nbconvert_exporter": "python",
   "pygments_lexer": "ipython3",
   "version": "3.7.4"
  },
  "orig_nbformat": 4,
  "kernelspec": {
   "name": "python3",
   "display_name": "Python 3.7.4 64-bit"
  },
  "interpreter": {
   "hash": "7be35b7fb98e915637bb1c527cd3d27c68e7a7c4684499d43c65acef62eaf27e"
  }
 },
 "nbformat": 4,
 "nbformat_minor": 2,
 "cells": [
  {
   "cell_type": "code",
   "execution_count": 1,
   "metadata": {},
   "outputs": [],
   "source": [
    "import numpy as np\n",
    "import pandas as pd\n",
    "import xlrd"
   ]
  },
  {
   "cell_type": "code",
   "execution_count": 5,
   "metadata": {},
   "outputs": [],
   "source": [
    "data = pd.read_excel('Frequency of Purchase Analysis Data Question.xlsx',engine = 'openpyxl')"
   ]
  },
  {
   "cell_type": "code",
   "execution_count": 6,
   "metadata": {},
   "outputs": [
    {
     "output_type": "execute_result",
     "data": {
      "text/plain": [
       "          Outlet ID Brand Name  Sales Value       DATE  Unnamed: 4  \\\n",
       "0          Outlet 1    Brand 1     395.6906 2018-04-10         NaN   \n",
       "1          Outlet 1    Brand 1     395.6906 2018-04-24         NaN   \n",
       "2          Outlet 1    Brand 2     724.9328 2018-04-10         NaN   \n",
       "3          Outlet 1    Brand 3     150.0466 2018-04-10         NaN   \n",
       "4          Outlet 1    Brand 3     300.0932 2018-04-24         NaN   \n",
       "...             ...        ...          ...        ...         ...   \n",
       "25468  Outlet 23559    Brand 3     150.0466 2018-04-05         NaN   \n",
       "25469  Outlet 23560    Brand 1     395.6906 2018-04-05         NaN   \n",
       "25470  Outlet 23560    Brand 3     300.0932 2018-04-05         NaN   \n",
       "25471  Outlet 23561    Brand 1     395.6906 2018-04-05         NaN   \n",
       "25472  Outlet 23561    Brand 3     150.0466 2018-04-05         NaN   \n",
       "\n",
       "       Unnamed: 5 Unnamed: 6 Unnamed: 7 Unnamed: 8  Unnamed: 9  Unnamed: 10  \n",
       "0             NaN        NaN        NaN        NaN         NaN          NaN  \n",
       "1             NaN        NaN        NaN        NaN         NaN          NaN  \n",
       "2             NaN        NaN        NaN        NaN         NaN          NaN  \n",
       "3             NaN        NaN        NaN        NaN         NaN          NaN  \n",
       "4             NaN        NaN        NaN        NaN         NaN          NaN  \n",
       "...           ...        ...        ...        ...         ...          ...  \n",
       "25468         NaN        NaN        NaN        NaN         NaN          NaN  \n",
       "25469         NaN        NaN        NaN        NaN         NaN          NaN  \n",
       "25470         NaN        NaN        NaN        NaN         NaN          NaN  \n",
       "25471         NaN        NaN        NaN        NaN         NaN          NaN  \n",
       "25472         NaN        NaN        NaN        NaN         NaN          NaN  \n",
       "\n",
       "[25473 rows x 11 columns]"
      ],
      "text/html": "<div>\n<style scoped>\n    .dataframe tbody tr th:only-of-type {\n        vertical-align: middle;\n    }\n\n    .dataframe tbody tr th {\n        vertical-align: top;\n    }\n\n    .dataframe thead th {\n        text-align: right;\n    }\n</style>\n<table border=\"1\" class=\"dataframe\">\n  <thead>\n    <tr style=\"text-align: right;\">\n      <th></th>\n      <th>Outlet ID</th>\n      <th>Brand Name</th>\n      <th>Sales Value</th>\n      <th>DATE</th>\n      <th>Unnamed: 4</th>\n      <th>Unnamed: 5</th>\n      <th>Unnamed: 6</th>\n      <th>Unnamed: 7</th>\n      <th>Unnamed: 8</th>\n      <th>Unnamed: 9</th>\n      <th>Unnamed: 10</th>\n    </tr>\n  </thead>\n  <tbody>\n    <tr>\n      <th>0</th>\n      <td>Outlet 1</td>\n      <td>Brand 1</td>\n      <td>395.6906</td>\n      <td>2018-04-10</td>\n      <td>NaN</td>\n      <td>NaN</td>\n      <td>NaN</td>\n      <td>NaN</td>\n      <td>NaN</td>\n      <td>NaN</td>\n      <td>NaN</td>\n    </tr>\n    <tr>\n      <th>1</th>\n      <td>Outlet 1</td>\n      <td>Brand 1</td>\n      <td>395.6906</td>\n      <td>2018-04-24</td>\n      <td>NaN</td>\n      <td>NaN</td>\n      <td>NaN</td>\n      <td>NaN</td>\n      <td>NaN</td>\n      <td>NaN</td>\n      <td>NaN</td>\n    </tr>\n    <tr>\n      <th>2</th>\n      <td>Outlet 1</td>\n      <td>Brand 2</td>\n      <td>724.9328</td>\n      <td>2018-04-10</td>\n      <td>NaN</td>\n      <td>NaN</td>\n      <td>NaN</td>\n      <td>NaN</td>\n      <td>NaN</td>\n      <td>NaN</td>\n      <td>NaN</td>\n    </tr>\n    <tr>\n      <th>3</th>\n      <td>Outlet 1</td>\n      <td>Brand 3</td>\n      <td>150.0466</td>\n      <td>2018-04-10</td>\n      <td>NaN</td>\n      <td>NaN</td>\n      <td>NaN</td>\n      <td>NaN</td>\n      <td>NaN</td>\n      <td>NaN</td>\n      <td>NaN</td>\n    </tr>\n    <tr>\n      <th>4</th>\n      <td>Outlet 1</td>\n      <td>Brand 3</td>\n      <td>300.0932</td>\n      <td>2018-04-24</td>\n      <td>NaN</td>\n      <td>NaN</td>\n      <td>NaN</td>\n      <td>NaN</td>\n      <td>NaN</td>\n      <td>NaN</td>\n      <td>NaN</td>\n    </tr>\n    <tr>\n      <th>...</th>\n      <td>...</td>\n      <td>...</td>\n      <td>...</td>\n      <td>...</td>\n      <td>...</td>\n      <td>...</td>\n      <td>...</td>\n      <td>...</td>\n      <td>...</td>\n      <td>...</td>\n      <td>...</td>\n    </tr>\n    <tr>\n      <th>25468</th>\n      <td>Outlet 23559</td>\n      <td>Brand 3</td>\n      <td>150.0466</td>\n      <td>2018-04-05</td>\n      <td>NaN</td>\n      <td>NaN</td>\n      <td>NaN</td>\n      <td>NaN</td>\n      <td>NaN</td>\n      <td>NaN</td>\n      <td>NaN</td>\n    </tr>\n    <tr>\n      <th>25469</th>\n      <td>Outlet 23560</td>\n      <td>Brand 1</td>\n      <td>395.6906</td>\n      <td>2018-04-05</td>\n      <td>NaN</td>\n      <td>NaN</td>\n      <td>NaN</td>\n      <td>NaN</td>\n      <td>NaN</td>\n      <td>NaN</td>\n      <td>NaN</td>\n    </tr>\n    <tr>\n      <th>25470</th>\n      <td>Outlet 23560</td>\n      <td>Brand 3</td>\n      <td>300.0932</td>\n      <td>2018-04-05</td>\n      <td>NaN</td>\n      <td>NaN</td>\n      <td>NaN</td>\n      <td>NaN</td>\n      <td>NaN</td>\n      <td>NaN</td>\n      <td>NaN</td>\n    </tr>\n    <tr>\n      <th>25471</th>\n      <td>Outlet 23561</td>\n      <td>Brand 1</td>\n      <td>395.6906</td>\n      <td>2018-04-05</td>\n      <td>NaN</td>\n      <td>NaN</td>\n      <td>NaN</td>\n      <td>NaN</td>\n      <td>NaN</td>\n      <td>NaN</td>\n      <td>NaN</td>\n    </tr>\n    <tr>\n      <th>25472</th>\n      <td>Outlet 23561</td>\n      <td>Brand 3</td>\n      <td>150.0466</td>\n      <td>2018-04-05</td>\n      <td>NaN</td>\n      <td>NaN</td>\n      <td>NaN</td>\n      <td>NaN</td>\n      <td>NaN</td>\n      <td>NaN</td>\n      <td>NaN</td>\n    </tr>\n  </tbody>\n</table>\n<p>25473 rows × 11 columns</p>\n</div>"
     },
     "metadata": {},
     "execution_count": 6
    }
   ],
   "source": [
    "data"
   ]
  },
  {
   "cell_type": "code",
   "execution_count": 7,
   "metadata": {},
   "outputs": [
    {
     "output_type": "execute_result",
     "data": {
      "text/plain": [
       "(25473, 11)"
      ]
     },
     "metadata": {},
     "execution_count": 7
    }
   ],
   "source": [
    "data.shape"
   ]
  },
  {
   "cell_type": "code",
   "execution_count": null,
   "metadata": {},
   "outputs": [],
   "source": []
  }
 ]
}